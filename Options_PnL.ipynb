{
 "cells": [
  {
   "cell_type": "markdown",
   "id": "70724e4a",
   "metadata": {},
   "source": [
    "# Calcualte the Options PnL"
   ]
  },
  {
   "cell_type": "code",
   "execution_count": 1,
   "id": "48a7cad5",
   "metadata": {},
   "outputs": [],
   "source": [
    "from scipy.optimize import minimize\n",
    "import math\n",
    "import numpy as np\n",
    "import pandas as pd\n",
    "import FX_Volatility"
   ]
  },
  {
   "cell_type": "code",
   "execution_count": 2,
   "id": "f7700792",
   "metadata": {},
   "outputs": [
    {
     "data": {
      "text/html": [
       "<div>\n",
       "<style scoped>\n",
       "    .dataframe tbody tr th:only-of-type {\n",
       "        vertical-align: middle;\n",
       "    }\n",
       "\n",
       "    .dataframe tbody tr th {\n",
       "        vertical-align: top;\n",
       "    }\n",
       "\n",
       "    .dataframe thead th {\n",
       "        text-align: right;\n",
       "    }\n",
       "</style>\n",
       "<table border=\"1\" class=\"dataframe\">\n",
       "  <thead>\n",
       "    <tr style=\"text-align: right;\">\n",
       "      <th></th>\n",
       "      <th>USDCNYspot</th>\n",
       "      <th>USDBRLspot</th>\n",
       "      <th>USDZARspot</th>\n",
       "      <th>USDRUBspot</th>\n",
       "      <th>EURUSDspot</th>\n",
       "      <th>USDJPYspot</th>\n",
       "      <th>USDMXNspot</th>\n",
       "      <th>USDCADspot</th>\n",
       "      <th>USDCNYvol</th>\n",
       "      <th>USDBRLvol</th>\n",
       "      <th>USDZARvol</th>\n",
       "      <th>USDRUBvol</th>\n",
       "      <th>EURUSDvol</th>\n",
       "      <th>USDJPYvol</th>\n",
       "      <th>USDMXNvol</th>\n",
       "      <th>USDCADvol</th>\n",
       "    </tr>\n",
       "    <tr>\n",
       "      <th>Date</th>\n",
       "      <th></th>\n",
       "      <th></th>\n",
       "      <th></th>\n",
       "      <th></th>\n",
       "      <th></th>\n",
       "      <th></th>\n",
       "      <th></th>\n",
       "      <th></th>\n",
       "      <th></th>\n",
       "      <th></th>\n",
       "      <th></th>\n",
       "      <th></th>\n",
       "      <th></th>\n",
       "      <th></th>\n",
       "      <th></th>\n",
       "      <th></th>\n",
       "    </tr>\n",
       "  </thead>\n",
       "  <tbody>\n",
       "    <tr>\n",
       "      <th>2011-01-04</th>\n",
       "      <td>0.000091</td>\n",
       "      <td>0.007396</td>\n",
       "      <td>0.006232</td>\n",
       "      <td>0.000655</td>\n",
       "      <td>-0.003967</td>\n",
       "      <td>0.003670</td>\n",
       "      <td>-0.001731</td>\n",
       "      <td>0.004528</td>\n",
       "      <td>-0.067081</td>\n",
       "      <td>0.017004</td>\n",
       "      <td>0.002493</td>\n",
       "      <td>0.007121</td>\n",
       "      <td>-0.040077</td>\n",
       "      <td>-0.031344</td>\n",
       "      <td>0.014555</td>\n",
       "      <td>0.000000</td>\n",
       "    </tr>\n",
       "    <tr>\n",
       "      <th>2011-01-05</th>\n",
       "      <td>0.001846</td>\n",
       "      <td>0.007702</td>\n",
       "      <td>0.004064</td>\n",
       "      <td>-0.002400</td>\n",
       "      <td>-0.011948</td>\n",
       "      <td>0.014749</td>\n",
       "      <td>-0.003279</td>\n",
       "      <td>-0.002705</td>\n",
       "      <td>-0.042610</td>\n",
       "      <td>0.000398</td>\n",
       "      <td>0.008883</td>\n",
       "      <td>-0.001010</td>\n",
       "      <td>0.004376</td>\n",
       "      <td>-0.005762</td>\n",
       "      <td>0.025570</td>\n",
       "      <td>-0.001434</td>\n",
       "    </tr>\n",
       "    <tr>\n",
       "      <th>2011-01-06</th>\n",
       "      <td>0.000937</td>\n",
       "      <td>0.006867</td>\n",
       "      <td>0.014337</td>\n",
       "      <td>0.002039</td>\n",
       "      <td>-0.011104</td>\n",
       "      <td>0.000961</td>\n",
       "      <td>0.002773</td>\n",
       "      <td>0.001004</td>\n",
       "      <td>0.009736</td>\n",
       "      <td>0.030243</td>\n",
       "      <td>0.013383</td>\n",
       "      <td>0.009606</td>\n",
       "      <td>0.015611</td>\n",
       "      <td>-0.002229</td>\n",
       "      <td>-0.005184</td>\n",
       "      <td>-0.003830</td>\n",
       "    </tr>\n",
       "    <tr>\n",
       "      <th>2011-01-07</th>\n",
       "      <td>0.000770</td>\n",
       "      <td>0.000830</td>\n",
       "      <td>0.001855</td>\n",
       "      <td>0.001014</td>\n",
       "      <td>-0.007383</td>\n",
       "      <td>-0.002160</td>\n",
       "      <td>0.000900</td>\n",
       "      <td>-0.003111</td>\n",
       "      <td>0.012397</td>\n",
       "      <td>-0.010429</td>\n",
       "      <td>-0.002780</td>\n",
       "      <td>0.000751</td>\n",
       "      <td>-0.019839</td>\n",
       "      <td>-0.007596</td>\n",
       "      <td>-0.004301</td>\n",
       "      <td>-0.019702</td>\n",
       "    </tr>\n",
       "    <tr>\n",
       "      <th>2011-01-10</th>\n",
       "      <td>0.000211</td>\n",
       "      <td>0.000889</td>\n",
       "      <td>0.002160</td>\n",
       "      <td>0.001631</td>\n",
       "      <td>0.003409</td>\n",
       "      <td>-0.005292</td>\n",
       "      <td>-0.001480</td>\n",
       "      <td>-0.000101</td>\n",
       "      <td>0.002721</td>\n",
       "      <td>-0.005074</td>\n",
       "      <td>0.019516</td>\n",
       "      <td>0.001251</td>\n",
       "      <td>-0.000729</td>\n",
       "      <td>0.001351</td>\n",
       "      <td>-0.000415</td>\n",
       "      <td>-0.004902</td>\n",
       "    </tr>\n",
       "  </tbody>\n",
       "</table>\n",
       "</div>"
      ],
      "text/plain": [
       "            USDCNYspot  USDBRLspot  USDZARspot  USDRUBspot  EURUSDspot  \\\n",
       "Date                                                                     \n",
       "2011-01-04    0.000091    0.007396    0.006232    0.000655   -0.003967   \n",
       "2011-01-05    0.001846    0.007702    0.004064   -0.002400   -0.011948   \n",
       "2011-01-06    0.000937    0.006867    0.014337    0.002039   -0.011104   \n",
       "2011-01-07    0.000770    0.000830    0.001855    0.001014   -0.007383   \n",
       "2011-01-10    0.000211    0.000889    0.002160    0.001631    0.003409   \n",
       "\n",
       "            USDJPYspot  USDMXNspot  USDCADspot  USDCNYvol  USDBRLvol  \\\n",
       "Date                                                                   \n",
       "2011-01-04    0.003670   -0.001731    0.004528  -0.067081   0.017004   \n",
       "2011-01-05    0.014749   -0.003279   -0.002705  -0.042610   0.000398   \n",
       "2011-01-06    0.000961    0.002773    0.001004   0.009736   0.030243   \n",
       "2011-01-07   -0.002160    0.000900   -0.003111   0.012397  -0.010429   \n",
       "2011-01-10   -0.005292   -0.001480   -0.000101   0.002721  -0.005074   \n",
       "\n",
       "            USDZARvol  USDRUBvol  EURUSDvol  USDJPYvol  USDMXNvol  USDCADvol  \n",
       "Date                                                                          \n",
       "2011-01-04   0.002493   0.007121  -0.040077  -0.031344   0.014555   0.000000  \n",
       "2011-01-05   0.008883  -0.001010   0.004376  -0.005762   0.025570  -0.001434  \n",
       "2011-01-06   0.013383   0.009606   0.015611  -0.002229  -0.005184  -0.003830  \n",
       "2011-01-07  -0.002780   0.000751  -0.019839  -0.007596  -0.004301  -0.019702  \n",
       "2011-01-10   0.019516   0.001251  -0.000729   0.001351  -0.000415  -0.004902  "
      ]
     },
     "execution_count": 2,
     "metadata": {},
     "output_type": "execute_result"
    }
   ],
   "source": [
    "# Create the Dataframe with spots and vols for risk_Metrics\n",
    "spot_vols = pd.read_csv(\"data/FXspot_ATMvols_edates.csv\") # without the first row of NA\n",
    "spot_vols.index = pd.to_datetime(spot_vols['Date'])\n",
    "del spot_vols['Date']\n",
    "# Create the returns dataFrame\n",
    "retfxvol = spot_vols.pct_change()[1:]\n",
    "retfxvol.head(5)"
   ]
  },
  {
   "cell_type": "code",
   "execution_count": 3,
   "id": "9ca796c4",
   "metadata": {},
   "outputs": [
    {
     "data": {
      "text/html": [
       "<div>\n",
       "<style scoped>\n",
       "    .dataframe tbody tr th:only-of-type {\n",
       "        vertical-align: middle;\n",
       "    }\n",
       "\n",
       "    .dataframe tbody tr th {\n",
       "        vertical-align: top;\n",
       "    }\n",
       "\n",
       "    .dataframe thead th {\n",
       "        text-align: right;\n",
       "    }\n",
       "</style>\n",
       "<table border=\"1\" class=\"dataframe\">\n",
       "  <thead>\n",
       "    <tr style=\"text-align: right;\">\n",
       "      <th></th>\n",
       "      <th>USDCNYspot</th>\n",
       "      <th>USDBRLspot</th>\n",
       "      <th>USDZARspot</th>\n",
       "      <th>USDRUBspot</th>\n",
       "      <th>EURUSDspot</th>\n",
       "      <th>USDJPYspot</th>\n",
       "      <th>USDMXNspot</th>\n",
       "      <th>USDCADspot</th>\n",
       "    </tr>\n",
       "    <tr>\n",
       "      <th>Date</th>\n",
       "      <th></th>\n",
       "      <th></th>\n",
       "      <th></th>\n",
       "      <th></th>\n",
       "      <th></th>\n",
       "      <th></th>\n",
       "      <th></th>\n",
       "      <th></th>\n",
       "    </tr>\n",
       "  </thead>\n",
       "  <tbody>\n",
       "    <tr>\n",
       "      <th>2011-01-04</th>\n",
       "      <td>0.000091</td>\n",
       "      <td>0.007396</td>\n",
       "      <td>0.006232</td>\n",
       "      <td>0.000655</td>\n",
       "      <td>-0.003967</td>\n",
       "      <td>0.003670</td>\n",
       "      <td>-0.001731</td>\n",
       "      <td>0.004528</td>\n",
       "    </tr>\n",
       "    <tr>\n",
       "      <th>2011-01-05</th>\n",
       "      <td>0.001846</td>\n",
       "      <td>0.007702</td>\n",
       "      <td>0.004064</td>\n",
       "      <td>-0.002400</td>\n",
       "      <td>-0.011948</td>\n",
       "      <td>0.014749</td>\n",
       "      <td>-0.003279</td>\n",
       "      <td>-0.002705</td>\n",
       "    </tr>\n",
       "    <tr>\n",
       "      <th>2011-01-06</th>\n",
       "      <td>0.000937</td>\n",
       "      <td>0.006867</td>\n",
       "      <td>0.014337</td>\n",
       "      <td>0.002039</td>\n",
       "      <td>-0.011104</td>\n",
       "      <td>0.000961</td>\n",
       "      <td>0.002773</td>\n",
       "      <td>0.001004</td>\n",
       "    </tr>\n",
       "    <tr>\n",
       "      <th>2011-01-07</th>\n",
       "      <td>0.000770</td>\n",
       "      <td>0.000830</td>\n",
       "      <td>0.001855</td>\n",
       "      <td>0.001014</td>\n",
       "      <td>-0.007383</td>\n",
       "      <td>-0.002160</td>\n",
       "      <td>0.000900</td>\n",
       "      <td>-0.003111</td>\n",
       "    </tr>\n",
       "    <tr>\n",
       "      <th>2011-01-10</th>\n",
       "      <td>0.000211</td>\n",
       "      <td>0.000889</td>\n",
       "      <td>0.002160</td>\n",
       "      <td>0.001631</td>\n",
       "      <td>0.003409</td>\n",
       "      <td>-0.005292</td>\n",
       "      <td>-0.001480</td>\n",
       "      <td>-0.000101</td>\n",
       "    </tr>\n",
       "    <tr>\n",
       "      <th>...</th>\n",
       "      <td>...</td>\n",
       "      <td>...</td>\n",
       "      <td>...</td>\n",
       "      <td>...</td>\n",
       "      <td>...</td>\n",
       "      <td>...</td>\n",
       "      <td>...</td>\n",
       "      <td>...</td>\n",
       "    </tr>\n",
       "    <tr>\n",
       "      <th>2021-06-29</th>\n",
       "      <td>0.000000</td>\n",
       "      <td>0.000000</td>\n",
       "      <td>0.000000</td>\n",
       "      <td>0.000000</td>\n",
       "      <td>0.000000</td>\n",
       "      <td>0.000000</td>\n",
       "      <td>0.000000</td>\n",
       "      <td>0.000000</td>\n",
       "    </tr>\n",
       "    <tr>\n",
       "      <th>2021-06-30</th>\n",
       "      <td>0.000000</td>\n",
       "      <td>0.000000</td>\n",
       "      <td>0.000000</td>\n",
       "      <td>0.000000</td>\n",
       "      <td>0.000000</td>\n",
       "      <td>0.000000</td>\n",
       "      <td>0.000000</td>\n",
       "      <td>0.000000</td>\n",
       "    </tr>\n",
       "    <tr>\n",
       "      <th>2021-07-01</th>\n",
       "      <td>0.000000</td>\n",
       "      <td>0.000000</td>\n",
       "      <td>0.000000</td>\n",
       "      <td>0.000000</td>\n",
       "      <td>0.000000</td>\n",
       "      <td>0.000000</td>\n",
       "      <td>0.000000</td>\n",
       "      <td>0.000000</td>\n",
       "    </tr>\n",
       "    <tr>\n",
       "      <th>2021-07-02</th>\n",
       "      <td>0.000000</td>\n",
       "      <td>0.000000</td>\n",
       "      <td>0.000000</td>\n",
       "      <td>0.000000</td>\n",
       "      <td>0.000000</td>\n",
       "      <td>0.000000</td>\n",
       "      <td>0.000000</td>\n",
       "      <td>0.000000</td>\n",
       "    </tr>\n",
       "    <tr>\n",
       "      <th>2021-07-05</th>\n",
       "      <td>0.000000</td>\n",
       "      <td>0.000000</td>\n",
       "      <td>0.000000</td>\n",
       "      <td>0.000000</td>\n",
       "      <td>0.000000</td>\n",
       "      <td>0.000000</td>\n",
       "      <td>0.000000</td>\n",
       "      <td>0.000000</td>\n",
       "    </tr>\n",
       "  </tbody>\n",
       "</table>\n",
       "<p>2740 rows × 8 columns</p>\n",
       "</div>"
      ],
      "text/plain": [
       "            USDCNYspot  USDBRLspot  USDZARspot  USDRUBspot  EURUSDspot  \\\n",
       "Date                                                                     \n",
       "2011-01-04    0.000091    0.007396    0.006232    0.000655   -0.003967   \n",
       "2011-01-05    0.001846    0.007702    0.004064   -0.002400   -0.011948   \n",
       "2011-01-06    0.000937    0.006867    0.014337    0.002039   -0.011104   \n",
       "2011-01-07    0.000770    0.000830    0.001855    0.001014   -0.007383   \n",
       "2011-01-10    0.000211    0.000889    0.002160    0.001631    0.003409   \n",
       "...                ...         ...         ...         ...         ...   \n",
       "2021-06-29    0.000000    0.000000    0.000000    0.000000    0.000000   \n",
       "2021-06-30    0.000000    0.000000    0.000000    0.000000    0.000000   \n",
       "2021-07-01    0.000000    0.000000    0.000000    0.000000    0.000000   \n",
       "2021-07-02    0.000000    0.000000    0.000000    0.000000    0.000000   \n",
       "2021-07-05    0.000000    0.000000    0.000000    0.000000    0.000000   \n",
       "\n",
       "            USDJPYspot  USDMXNspot  USDCADspot  \n",
       "Date                                            \n",
       "2011-01-04    0.003670   -0.001731    0.004528  \n",
       "2011-01-05    0.014749   -0.003279   -0.002705  \n",
       "2011-01-06    0.000961    0.002773    0.001004  \n",
       "2011-01-07   -0.002160    0.000900   -0.003111  \n",
       "2011-01-10   -0.005292   -0.001480   -0.000101  \n",
       "...                ...         ...         ...  \n",
       "2021-06-29    0.000000    0.000000    0.000000  \n",
       "2021-06-30    0.000000    0.000000    0.000000  \n",
       "2021-07-01    0.000000    0.000000    0.000000  \n",
       "2021-07-02    0.000000    0.000000    0.000000  \n",
       "2021-07-05    0.000000    0.000000    0.000000  \n",
       "\n",
       "[2740 rows x 8 columns]"
      ]
     },
     "execution_count": 3,
     "metadata": {},
     "output_type": "execute_result"
    }
   ],
   "source": [
    "# Separate the FX spots returns \n",
    "retfx = retfxvol[retfxvol.columns[0:8]]\n",
    "retfx"
   ]
  },
  {
   "cell_type": "code",
   "execution_count": 4,
   "id": "803bfd64",
   "metadata": {},
   "outputs": [
    {
     "data": {
      "text/plain": [
       "Date\n",
       "2011-01-04    0.140\n",
       "2011-01-05    0.140\n",
       "2011-01-06    0.145\n",
       "2011-01-07    0.140\n",
       "2011-01-10    0.140\n",
       "              ...  \n",
       "2021-06-29    0.046\n",
       "2021-06-30    0.043\n",
       "2021-07-01    0.046\n",
       "2021-07-02    0.044\n",
       "2021-07-05    0.044\n",
       "Name: RFR, Length: 2740, dtype: float64"
      ]
     },
     "execution_count": 4,
     "metadata": {},
     "output_type": "execute_result"
    }
   ],
   "source": [
    "# Import Risk Free Rates\n",
    "\n",
    "# read the risk free rate\n",
    "riskfree = pd.read_csv(\"data/3mTbill.csv\")\n",
    "riskfree['Date'] = pd.to_datetime(riskfree['Date'])\n",
    "# match the date\n",
    "riskfree = riskfree[riskfree['Date'].isin(retfx.index.values)].set_index('Date')\n",
    "# daily risk free (dont transform to daily for options)\n",
    "#riskfree = (1 + riskfree).pow(1/252) - 1\n",
    "\n",
    "# Convert from a DataFrame to a Series \n",
    "riskfree = riskfree['RFR']\n",
    "riskfree"
   ]
  },
  {
   "cell_type": "code",
   "execution_count": 5,
   "id": "29f7885c",
   "metadata": {},
   "outputs": [],
   "source": [
    "# Risk Parity:\n",
    "def Risk_parity(portfolio, kappa=5):\n",
    "    \"\"\"\n",
    "    Implement the risk parity optimization.\n",
    "    \"\"\"\n",
    "    # min   (1/2) * (x' * Q * x) - kappa * sum_{i=1}^n ln(x_i)\n",
    "    # s.t.  x >= 0\n",
    "    \n",
    "    _cov = portfolio.cov()\n",
    "    # number of assets\n",
    "    n = _cov.shape[0]\n",
    "\n",
    "    # parameters for nonlinear program\n",
    "    eps = 1e-3\n",
    "\n",
    "    def safe_log(x):\n",
    "        if x > eps:\n",
    "            return math.log(x)\n",
    "        logeps = math.log(eps)\n",
    "        a = 1 / (3 * eps * (3 * logeps * eps) ** 2)\n",
    "        b = eps * (1 - 3 * logeps)\n",
    "        return a * (x - b) ** 3\n",
    "\n",
    "    def f(x, _cov, kappa):\n",
    "        func = 0.5 * x.T.dot(_cov.dot(x))\n",
    "\n",
    "        for i in range(n):\n",
    "            func = func - kappa * safe_log(x[i])\n",
    "\n",
    "        return func\n",
    "\n",
    "    xinit = np.repeat(1 / n, n)\n",
    "    lb = -1\n",
    "    ub = 1\n",
    "    bnds = tuple([(lb, ub) for x in xinit])\n",
    "\n",
    "    res = minimize(f, args=(_cov, kappa), method='trust-constr',\n",
    "                   x0=xinit, bounds=bnds, tol=10 ** -3)\n",
    "\n",
    "    return res.x / np.sum(res.x)"
   ]
  },
  {
   "cell_type": "code",
   "execution_count": 6,
   "id": "6984c64d",
   "metadata": {},
   "outputs": [],
   "source": [
    "def sharpe_ratio_maximization(portfolio):\n",
    "\n",
    "    _return = portfolio\n",
    "    _cov = portfolio.cov().to_numpy()\n",
    "    # number of assets\n",
    "    n = _cov.shape[0]\n",
    "\n",
    "    # define maximization of Sharpe Ratio using principle of duality\n",
    "    def f(x, _return, _cov):\n",
    "        mu_p = _return.mul(x, axis=1).sum(axis=1).cumsum()[-1]\n",
    "        cov_p = np.sqrt(np.matmul(np.matmul(x, _cov), x.T))\n",
    "        func = -(mu_p / cov_p)\n",
    "        return func\n",
    "\n",
    "    # define equality constraint representing fully invested portfolio\n",
    "    def constraintEq(x):\n",
    "        A = np.ones(x.shape)\n",
    "        b = 1\n",
    "        constraintVal = np.matmul(A, x.T) - b\n",
    "        return constraintVal\n",
    "\n",
    "    # define bounds and other parameters\n",
    "    xinit = np.repeat(1 / n, n)\n",
    "    cons = ({'type': 'eq', 'fun': constraintEq})\n",
    "    lb = 0\n",
    "    ub = 1\n",
    "    bnds = tuple([(lb, ub) for x in xinit])\n",
    "\n",
    "    # invoke minimize solver\n",
    "    res = minimize(f, x0=xinit, args=(_return, _cov), method='SLSQP',\n",
    "                   bounds=bnds, constraints=cons, tol=10**-3)\n",
    "    return res.x"
   ]
  },
  {
   "cell_type": "code",
   "execution_count": 9,
   "id": "db16a304",
   "metadata": {},
   "outputs": [],
   "source": [
    "def transform2(array):\n",
    "    abso = np.abs(array)\n",
    "    sort = np.sort(abso)\n",
    "    list_ccy = [sort[len(array)-1]]\n",
    "    #list_ccy = [sort[len(array)-1],sort[len(array)-2]]\n",
    "    transform = []\n",
    "    strategies = [2,4] # or [1,5]\n",
    "    for i in range(len(array)):\n",
    "        if np.abs(array[i]) in list_ccy:\n",
    "            if array[i]>0:\n",
    "                transform.append(strategies[1])\n",
    "            else:\n",
    "                transform.append(strategies[0])\n",
    "        else:\n",
    "            transform.append(3)                 \n",
    "    return transform"
   ]
  },
  {
   "cell_type": "code",
   "execution_count": 10,
   "id": "892bc07c",
   "metadata": {},
   "outputs": [
    {
     "data": {
      "text/plain": [
       "array([0.12500003, 0.12499997, 0.12499996, 0.12499997, 0.12500006,\n",
       "       0.12500003, 0.12499998, 0.12500001])"
      ]
     },
     "execution_count": 10,
     "metadata": {},
     "output_type": "execute_result"
    }
   ],
   "source": [
    "weights = Risk_parity(retfx, kappa=5)\n",
    "weights"
   ]
  },
  {
   "cell_type": "code",
   "execution_count": 11,
   "id": "c9817e0e",
   "metadata": {},
   "outputs": [
    {
     "data": {
      "text/plain": [
       "array([4.05480182e-13, 2.19312008e-01, 6.20084560e-02, 1.43440205e-01,\n",
       "       2.66066211e-01, 3.09173120e-01, 0.00000000e+00, 1.16577287e-13])"
      ]
     },
     "execution_count": 11,
     "metadata": {},
     "output_type": "execute_result"
    }
   ],
   "source": [
    "weights = sharpe_ratio_maximization(retfx)\n",
    "weights"
   ]
  },
  {
   "cell_type": "code",
   "execution_count": 12,
   "id": "8ad66b12",
   "metadata": {},
   "outputs": [
    {
     "data": {
      "text/plain": [
       "[3, 3, 3, 3, 3, 4, 3, 3]"
      ]
     },
     "execution_count": 12,
     "metadata": {},
     "output_type": "execute_result"
    }
   ],
   "source": [
    "transform2(weights)"
   ]
  },
  {
   "cell_type": "code",
   "execution_count": null,
   "id": "cffda9cf",
   "metadata": {},
   "outputs": [],
   "source": []
  },
  {
   "cell_type": "code",
   "execution_count": 13,
   "id": "ea9699fc",
   "metadata": {
    "scrolled": true
   },
   "outputs": [],
   "source": [
    "# Process vol_data\n",
    "# FX.volatility.clean_vol_data creates a list where each element is vol data a\n",
    "# Then we create a dictionary where keys are the currency name and values are the vol data \n",
    "# Example vols_dict['EURUSD'] = Dataframe (Spot, Forward points, atm, rr, bf)\n",
    "allbase = pd.read_csv('data/vol_data_edates.csv')\n",
    "list_vols = FX_Volatility.clean_vol_date(allbase)\n",
    "# Create dictionary \n",
    "keys = []\n",
    "for i in range(8):\n",
    "    keys.append(list_vols[i].columns[0][0:6])\n",
    "vols_dict = dict(zip(keys, list_vols))"
   ]
  },
  {
   "cell_type": "code",
   "execution_count": 14,
   "id": "cc3f88e9",
   "metadata": {},
   "outputs": [
    {
     "data": {
      "text/plain": [
       "['USDCNY',\n",
       " 'USDBRL',\n",
       " 'USDZAR',\n",
       " 'USDRUB',\n",
       " 'EURUSD',\n",
       " 'USDJPY',\n",
       " 'USDMXN',\n",
       " 'USDCAD']"
      ]
     },
     "execution_count": 14,
     "metadata": {},
     "output_type": "execute_result"
    }
   ],
   "source": [
    "# Order currencies like in the returns DataFrame\n",
    "ccy_order = []\n",
    "ccy_list = retfx.columns\n",
    "for i in range(8):\n",
    "    ccy_order.append(ccy_list[i][0:6])\n",
    "ccy_order"
   ]
  },
  {
   "cell_type": "code",
   "execution_count": 15,
   "id": "d95ead44",
   "metadata": {},
   "outputs": [
    {
     "name": "stdout",
     "output_type": "stream",
     "text": [
      "63\n"
     ]
    },
    {
     "data": {
      "text/plain": [
       "DatetimeIndex(['2016-04-01', '2016-05-01', '2016-06-01', '2016-07-01',\n",
       "               '2016-08-01', '2016-09-01', '2016-10-01', '2016-11-01',\n",
       "               '2016-12-01', '2017-01-01', '2017-02-01', '2017-03-01',\n",
       "               '2017-04-01', '2017-05-01', '2017-06-01', '2017-07-01',\n",
       "               '2017-08-01', '2017-09-01', '2017-10-01', '2017-11-01',\n",
       "               '2017-12-01', '2018-01-01', '2018-02-01', '2018-03-01',\n",
       "               '2018-04-01', '2018-05-01', '2018-06-01', '2018-07-01',\n",
       "               '2018-08-01', '2018-09-01', '2018-10-01', '2018-11-01',\n",
       "               '2018-12-01', '2019-01-01', '2019-02-01', '2019-03-01',\n",
       "               '2019-04-01', '2019-05-01', '2019-06-01', '2019-07-01',\n",
       "               '2019-08-01', '2019-09-01', '2019-10-01', '2019-11-01',\n",
       "               '2019-12-01', '2020-01-01', '2020-02-01', '2020-03-01',\n",
       "               '2020-04-01', '2020-05-01', '2020-06-01', '2020-07-01',\n",
       "               '2020-08-01', '2020-09-01', '2020-10-01', '2020-11-01',\n",
       "               '2020-12-01', '2021-01-01', '2021-02-01', '2021-03-01',\n",
       "               '2021-04-01', '2021-05-01', '2021-06-01'],\n",
       "              dtype='datetime64[ns]', freq='MS')"
      ]
     },
     "execution_count": 15,
     "metadata": {},
     "output_type": "execute_result"
    }
   ],
   "source": [
    "# Create a list of semiannual dates to split on\n",
    "start = pd.to_datetime('2016-06-01')\n",
    "end = pd.to_datetime('2021-06-01')\n",
    "#dates_to_split = pd.date_range(start, end, freq='MS')\n",
    "#dates_to_split = pd.date_range(start='6/1/2016', periods=19, freq='3MS')\n",
    "dates_to_split = pd.date_range(start='4/1/2016', periods=63, freq='MS')\n",
    "print(len(dates_to_split))\n",
    "dates_to_split"
   ]
  },
  {
   "cell_type": "code",
   "execution_count": 16,
   "id": "7469e39d",
   "metadata": {},
   "outputs": [
    {
     "name": "stdout",
     "output_type": "stream",
     "text": [
      "65\n"
     ]
    },
    {
     "data": {
      "text/plain": [
       "DatetimeIndex(['2016-01-01', '2016-02-01', '2016-03-01', '2016-04-01',\n",
       "               '2016-05-01', '2016-06-01', '2016-07-01', '2016-08-01',\n",
       "               '2016-09-01', '2016-10-01', '2016-11-01', '2016-12-01',\n",
       "               '2017-01-01', '2017-02-01', '2017-03-01', '2017-04-01',\n",
       "               '2017-05-01', '2017-06-01', '2017-07-01', '2017-08-01',\n",
       "               '2017-09-01', '2017-10-01', '2017-11-01', '2017-12-01',\n",
       "               '2018-01-01', '2018-02-01', '2018-03-01', '2018-04-01',\n",
       "               '2018-05-01', '2018-06-01', '2018-07-01', '2018-08-01',\n",
       "               '2018-09-01', '2018-10-01', '2018-11-01', '2018-12-01',\n",
       "               '2019-01-01', '2019-02-01', '2019-03-01', '2019-04-01',\n",
       "               '2019-05-01', '2019-06-01', '2019-07-01', '2019-08-01',\n",
       "               '2019-09-01', '2019-10-01', '2019-11-01', '2019-12-01',\n",
       "               '2020-01-01', '2020-02-01', '2020-03-01', '2020-04-01',\n",
       "               '2020-05-01', '2020-06-01', '2020-07-01', '2020-08-01',\n",
       "               '2020-09-01', '2020-10-01', '2020-11-01', '2020-12-01',\n",
       "               '2021-01-01', '2021-02-01', '2021-03-01', '2021-04-01',\n",
       "               '2021-05-01'],\n",
       "              dtype='datetime64[ns]', freq='MS')"
      ]
     },
     "execution_count": 16,
     "metadata": {},
     "output_type": "execute_result"
    }
   ],
   "source": [
    "# Create a list of dates to calibrate returns\n",
    "start = pd.to_datetime('2016-04-30')\n",
    "end = pd.to_datetime('2021-04-30')\n",
    "#dates_sample = pd.date_range(start, end, freq='M')\n",
    "#dates_sample = pd.date_range(start='3/1/2016', periods=21, freq='3MS')\n",
    "#dates_sample = pd.date_range(start='1/1/2016', periods =65, freq='MS'  )\n",
    "# For in-sample testing\n",
    "dates_sample = pd.date_range(start='1/1/2016', periods=65, freq='MS')\n",
    "print(len(dates_sample))\n",
    "dates_sample"
   ]
  },
  {
   "cell_type": "code",
   "execution_count": null,
   "id": "6b87235a",
   "metadata": {},
   "outputs": [],
   "source": []
  },
  {
   "cell_type": "code",
   "execution_count": 23,
   "id": "6a43ddbd",
   "metadata": {},
   "outputs": [],
   "source": [
    "# Generate a list with all the PnL DataFrames\n",
    "strategy = 2  # Risk Parity =1 or Max Sharpe Ratio =2\n",
    "kappa = 5 # For risk parity \n",
    "cash = 1000 # Inital cash to invest per period  \n",
    "bos = 0.25 # Define bid-offer spread for options \n",
    "pnl_list = []\n",
    "\n",
    "# Generate a list with all the PnL DataFrames\n",
    "for i in range(len(dates_to_split)-1):\n",
    "    # Define start and end dates for each PnL DataFrame\n",
    "    start_calib = dates_sample[i]\n",
    "    end_calib = dates_sample[i+3]\n",
    "    # filter returns\n",
    "    period_rets = retfx[(start_calib<=retfx.index)&(retfx.index<=end_calib)]\n",
    "    # Define the Strategy\n",
    "    if strategy == 1:\n",
    "        weights = Risk_parity(period_rets, kappa)\n",
    "    else:\n",
    "        weights = sharpe_ratio_maximization(period_rets)\n",
    "    strategies = np.array(transform2(weights))\n",
    "    # Define available cash and cash per currency\n",
    "    count_3 = np.count_nonzero(strategies == 3)\n",
    "    cash_per_ccy = cash / (8- count_3)\n",
    "    \n",
    "    # Define start and end dates for each PnL DataFrame\n",
    "    start = dates_to_split[i]\n",
    "    end = dates_to_split[i+1]\n",
    "    # Set a new DataFrame with dates to put information\n",
    "    period_pnl = retfx.copy()\n",
    "    period_pnl = period_pnl[(start<=period_pnl.index)&(period_pnl.index<=end)]\n",
    "    period_pnl.drop(list(period_pnl.columns),axis=1,inplace=True)\n",
    "    # Calculate all \n",
    "    for j in range(8):\n",
    "        #print(ccy_order[j])\n",
    "        #print(start)\n",
    "        try:\n",
    "            pnl_j = FX_Volatility.performe2(vols_dict[ccy_order[j]],riskfree, start, end, bos, strategies[j], cash_per_ccy).pnl()\n",
    "        except:\n",
    "            pnl_j = FX_Volatility.performe2(vols_dict[ccy_order[j]],riskfree, start, end, bos, 3, cash_per_ccy).pnl()\n",
    "        period_pnl = period_pnl.join(pnl_j)\n",
    "    pnl_list.append(period_pnl)"
   ]
  },
  {
   "cell_type": "code",
   "execution_count": 25,
   "id": "7a912553",
   "metadata": {},
   "outputs": [],
   "source": [
    "# let check the P&L \n",
    "\n",
    "# Choose the metric you want to get \n",
    "suffix = ['_spot','_pnl', '_delta', '_gamma','_vega','_theta']\n",
    "total = 0\n",
    "risk_dates = []\n",
    "\n",
    "# Create the DataFrames (one for each sens, metric)\n",
    "realized_pnl = pd.DataFrame()\n",
    "for i in suffix:\n",
    "    globals()[i] = pd.DataFrame()\n",
    "    #globals()[i] = allbase.reset_index().rename(columns={'DATE':'Date'}).set_index('Date').copy()\n",
    "    #globals()[i]  = globals()[i][(dates_to_split[0]<=globals()[i].index)&(globals()[i].index<=dates_to_split[-1])]\n",
    "    #globals()[i] .drop(list(globals()[i]),axis=1,inplace=True)\n",
    "\n",
    "for i in range(len(pnl_list)):\n",
    "    for j in range(1,6):\n",
    "        aux = pnl_list[i].copy()\n",
    "        for k in aux.columns:\n",
    "            if k[6:] !=  suffix[j]:\n",
    "                aux.drop(k,axis=1,inplace=True)\n",
    "        aux['Total'+suffix[j]] = aux.sum(axis=1)\n",
    "        # Drop last row (if its repetead in the other dataframe) but keep the information only of P&L\n",
    "        if j == 1:\n",
    "            realized_pnl = pd.concat([realized_pnl,pd.DataFrame(aux.iloc[-1]).T])\n",
    "            total_i = aux['Total_pnl'][-1]\n",
    "            #print(total_i)\n",
    "            total += total_i\n",
    "            risk_dates.append(aux.index[0])\n",
    "            try:\n",
    "                if aux.index[-1] == pnl_list[i+1].index[0]:\n",
    "                    aux = aux.iloc[0:-1].copy()\n",
    "            except:\n",
    "                pass\n",
    "        else:\n",
    "            try:\n",
    "                if aux.index[-1] == pnl_list[i+1].index[0]:\n",
    "                    aux = aux.iloc[0:-1].copy()\n",
    "            except:\n",
    "                pass\n",
    "        globals()[suffix[j]] = pd.concat([globals()[suffix[j]],aux])\n",
    "risk_dates = pd.to_datetime(risk_dates)"
   ]
  },
  {
   "cell_type": "code",
   "execution_count": 26,
   "id": "773971ea",
   "metadata": {},
   "outputs": [
    {
     "data": {
      "text/plain": [
       "True"
      ]
     },
     "execution_count": 26,
     "metadata": {},
     "output_type": "execute_result"
    }
   ],
   "source": [
    "round(total,2) == round(realized_pnl['Total_pnl'].sum(),2)"
   ]
  },
  {
   "cell_type": "code",
   "execution_count": 27,
   "id": "43a7c062",
   "metadata": {},
   "outputs": [
    {
     "data": {
      "text/plain": [
       "13847.990839371989"
      ]
     },
     "execution_count": 27,
     "metadata": {},
     "output_type": "execute_result"
    }
   ],
   "source": [
    "realized_pnl['Total_pnl'].sum()"
   ]
  },
  {
   "cell_type": "code",
   "execution_count": 28,
   "id": "9e033662",
   "metadata": {},
   "outputs": [
    {
     "data": {
      "text/html": [
       "<div>\n",
       "<style scoped>\n",
       "    .dataframe tbody tr th:only-of-type {\n",
       "        vertical-align: middle;\n",
       "    }\n",
       "\n",
       "    .dataframe tbody tr th {\n",
       "        vertical-align: top;\n",
       "    }\n",
       "\n",
       "    .dataframe thead th {\n",
       "        text-align: right;\n",
       "    }\n",
       "</style>\n",
       "<table border=\"1\" class=\"dataframe\">\n",
       "  <thead>\n",
       "    <tr style=\"text-align: right;\">\n",
       "      <th></th>\n",
       "      <th>USDCNY_pnl</th>\n",
       "      <th>USDBRL_pnl</th>\n",
       "      <th>USDZAR_pnl</th>\n",
       "      <th>USDRUB_pnl</th>\n",
       "      <th>EURUSD_pnl</th>\n",
       "      <th>USDJPY_pnl</th>\n",
       "      <th>USDMXN_pnl</th>\n",
       "      <th>USDCAD_pnl</th>\n",
       "      <th>Total_pnl</th>\n",
       "    </tr>\n",
       "  </thead>\n",
       "  <tbody>\n",
       "    <tr>\n",
       "      <th>2016-04-29</th>\n",
       "      <td>0.000000</td>\n",
       "      <td>0.0</td>\n",
       "      <td>0.0</td>\n",
       "      <td>0.0</td>\n",
       "      <td>-372.633714</td>\n",
       "      <td>0.000000</td>\n",
       "      <td>0.0</td>\n",
       "      <td>0.0</td>\n",
       "      <td>-372.633714</td>\n",
       "    </tr>\n",
       "    <tr>\n",
       "      <th>2016-06-01</th>\n",
       "      <td>0.000000</td>\n",
       "      <td>0.0</td>\n",
       "      <td>0.0</td>\n",
       "      <td>0.0</td>\n",
       "      <td>-1022.306686</td>\n",
       "      <td>0.000000</td>\n",
       "      <td>0.0</td>\n",
       "      <td>0.0</td>\n",
       "      <td>-1022.306686</td>\n",
       "    </tr>\n",
       "    <tr>\n",
       "      <th>2016-07-01</th>\n",
       "      <td>792.875460</td>\n",
       "      <td>0.0</td>\n",
       "      <td>0.0</td>\n",
       "      <td>0.0</td>\n",
       "      <td>0.000000</td>\n",
       "      <td>0.000000</td>\n",
       "      <td>0.0</td>\n",
       "      <td>0.0</td>\n",
       "      <td>792.875460</td>\n",
       "    </tr>\n",
       "    <tr>\n",
       "      <th>2016-08-01</th>\n",
       "      <td>-1024.546371</td>\n",
       "      <td>0.0</td>\n",
       "      <td>0.0</td>\n",
       "      <td>0.0</td>\n",
       "      <td>0.000000</td>\n",
       "      <td>0.000000</td>\n",
       "      <td>0.0</td>\n",
       "      <td>0.0</td>\n",
       "      <td>-1024.546371</td>\n",
       "    </tr>\n",
       "    <tr>\n",
       "      <th>2016-09-01</th>\n",
       "      <td>-497.230141</td>\n",
       "      <td>0.0</td>\n",
       "      <td>0.0</td>\n",
       "      <td>0.0</td>\n",
       "      <td>0.000000</td>\n",
       "      <td>0.000000</td>\n",
       "      <td>0.0</td>\n",
       "      <td>0.0</td>\n",
       "      <td>-497.230141</td>\n",
       "    </tr>\n",
       "    <tr>\n",
       "      <th>...</th>\n",
       "      <td>...</td>\n",
       "      <td>...</td>\n",
       "      <td>...</td>\n",
       "      <td>...</td>\n",
       "      <td>...</td>\n",
       "      <td>...</td>\n",
       "      <td>...</td>\n",
       "      <td>...</td>\n",
       "      <td>...</td>\n",
       "    </tr>\n",
       "    <tr>\n",
       "      <th>2021-02-01</th>\n",
       "      <td>0.000000</td>\n",
       "      <td>0.0</td>\n",
       "      <td>0.0</td>\n",
       "      <td>0.0</td>\n",
       "      <td>-1006.297974</td>\n",
       "      <td>0.000000</td>\n",
       "      <td>0.0</td>\n",
       "      <td>0.0</td>\n",
       "      <td>-1006.297974</td>\n",
       "    </tr>\n",
       "    <tr>\n",
       "      <th>2021-03-01</th>\n",
       "      <td>0.000000</td>\n",
       "      <td>0.0</td>\n",
       "      <td>0.0</td>\n",
       "      <td>0.0</td>\n",
       "      <td>-941.534002</td>\n",
       "      <td>0.000000</td>\n",
       "      <td>0.0</td>\n",
       "      <td>0.0</td>\n",
       "      <td>-941.534002</td>\n",
       "    </tr>\n",
       "    <tr>\n",
       "      <th>2021-04-01</th>\n",
       "      <td>0.000000</td>\n",
       "      <td>0.0</td>\n",
       "      <td>0.0</td>\n",
       "      <td>0.0</td>\n",
       "      <td>0.000000</td>\n",
       "      <td>3295.360911</td>\n",
       "      <td>0.0</td>\n",
       "      <td>0.0</td>\n",
       "      <td>3295.360911</td>\n",
       "    </tr>\n",
       "    <tr>\n",
       "      <th>2021-04-30</th>\n",
       "      <td>0.000000</td>\n",
       "      <td>0.0</td>\n",
       "      <td>0.0</td>\n",
       "      <td>0.0</td>\n",
       "      <td>0.000000</td>\n",
       "      <td>-1001.134848</td>\n",
       "      <td>0.0</td>\n",
       "      <td>0.0</td>\n",
       "      <td>-1001.134848</td>\n",
       "    </tr>\n",
       "    <tr>\n",
       "      <th>2021-06-01</th>\n",
       "      <td>0.000000</td>\n",
       "      <td>0.0</td>\n",
       "      <td>0.0</td>\n",
       "      <td>0.0</td>\n",
       "      <td>0.000000</td>\n",
       "      <td>-289.178281</td>\n",
       "      <td>0.0</td>\n",
       "      <td>0.0</td>\n",
       "      <td>-289.178281</td>\n",
       "    </tr>\n",
       "  </tbody>\n",
       "</table>\n",
       "<p>62 rows × 9 columns</p>\n",
       "</div>"
      ],
      "text/plain": [
       "             USDCNY_pnl  USDBRL_pnl  USDZAR_pnl  USDRUB_pnl   EURUSD_pnl  \\\n",
       "2016-04-29     0.000000         0.0         0.0         0.0  -372.633714   \n",
       "2016-06-01     0.000000         0.0         0.0         0.0 -1022.306686   \n",
       "2016-07-01   792.875460         0.0         0.0         0.0     0.000000   \n",
       "2016-08-01 -1024.546371         0.0         0.0         0.0     0.000000   \n",
       "2016-09-01  -497.230141         0.0         0.0         0.0     0.000000   \n",
       "...                 ...         ...         ...         ...          ...   \n",
       "2021-02-01     0.000000         0.0         0.0         0.0 -1006.297974   \n",
       "2021-03-01     0.000000         0.0         0.0         0.0  -941.534002   \n",
       "2021-04-01     0.000000         0.0         0.0         0.0     0.000000   \n",
       "2021-04-30     0.000000         0.0         0.0         0.0     0.000000   \n",
       "2021-06-01     0.000000         0.0         0.0         0.0     0.000000   \n",
       "\n",
       "             USDJPY_pnl  USDMXN_pnl  USDCAD_pnl    Total_pnl  \n",
       "2016-04-29     0.000000         0.0         0.0  -372.633714  \n",
       "2016-06-01     0.000000         0.0         0.0 -1022.306686  \n",
       "2016-07-01     0.000000         0.0         0.0   792.875460  \n",
       "2016-08-01     0.000000         0.0         0.0 -1024.546371  \n",
       "2016-09-01     0.000000         0.0         0.0  -497.230141  \n",
       "...                 ...         ...         ...          ...  \n",
       "2021-02-01     0.000000         0.0         0.0 -1006.297974  \n",
       "2021-03-01     0.000000         0.0         0.0  -941.534002  \n",
       "2021-04-01  3295.360911         0.0         0.0  3295.360911  \n",
       "2021-04-30 -1001.134848         0.0         0.0 -1001.134848  \n",
       "2021-06-01  -289.178281         0.0         0.0  -289.178281  \n",
       "\n",
       "[62 rows x 9 columns]"
      ]
     },
     "execution_count": 28,
     "metadata": {},
     "output_type": "execute_result"
    }
   ],
   "source": [
    "realized_pnl"
   ]
  },
  {
   "cell_type": "code",
   "execution_count": 29,
   "id": "a56c93fd",
   "metadata": {},
   "outputs": [
    {
     "data": {
      "text/plain": [
       "USDCNY_pnl     1897.819401\n",
       "USDBRL_pnl    15849.950603\n",
       "USDZAR_pnl        0.000000\n",
       "USDRUB_pnl    -1006.625972\n",
       "EURUSD_pnl     1012.479917\n",
       "USDJPY_pnl    -3359.638222\n",
       "USDMXN_pnl     2908.135911\n",
       "USDCAD_pnl    -3454.130799\n",
       "Total_pnl     13847.990839\n",
       "dtype: float64"
      ]
     },
     "execution_count": 29,
     "metadata": {},
     "output_type": "execute_result"
    }
   ],
   "source": [
    "realized_pnl.sum()"
   ]
  },
  {
   "cell_type": "code",
   "execution_count": 42,
   "id": "c1668515",
   "metadata": {},
   "outputs": [
    {
     "data": {
      "text/plain": [
       "USDCNY_pnl    62\n",
       "USDBRL_pnl    62\n",
       "USDZAR_pnl    62\n",
       "USDRUB_pnl    62\n",
       "EURUSD_pnl    62\n",
       "USDJPY_pnl    62\n",
       "USDMXN_pnl    62\n",
       "USDCAD_pnl    62\n",
       "Total_pnl     62\n",
       "dtype: int64"
      ]
     },
     "execution_count": 42,
     "metadata": {},
     "output_type": "execute_result"
    }
   ],
   "source": [
    "realized_pnl.count()"
   ]
  },
  {
   "cell_type": "code",
   "execution_count": 70,
   "id": "36d2238f",
   "metadata": {},
   "outputs": [
    {
     "data": {
      "text/plain": [
       "USDCNY_pnl    20\n",
       "USDBRL_pnl     5\n",
       "USDZAR_pnl     0\n",
       "USDRUB_pnl     1\n",
       "EURUSD_pnl    23\n",
       "USDJPY_pnl     9\n",
       "USDMXN_pnl     1\n",
       "USDCAD_pnl     3\n",
       "Total_pnl     62\n",
       "dtype: int64"
      ]
     },
     "execution_count": 70,
     "metadata": {},
     "output_type": "execute_result"
    }
   ],
   "source": [
    "times = []\n",
    "for i in realized_pnl.columns:\n",
    "    times.append(62 -np.count_nonzero(realized_pnl[i]==0))\n",
    "times = pd.Series(times)\n",
    "times.index = realized_pnl.columns\n",
    "times"
   ]
  },
  {
   "cell_type": "code",
   "execution_count": 73,
   "id": "96b6a473",
   "metadata": {},
   "outputs": [
    {
     "data": {
      "text/plain": [
       "<AxesSubplot:xlabel='Date'>"
      ]
     },
     "execution_count": 73,
     "metadata": {},
     "output_type": "execute_result"
    },
    {
     "data": {
      "image/png": "[encoded data removed]",
      "text/plain": [
       "<Figure size 432x288 with 1 Axes>"
      ]
     },
     "metadata": {
      "needs_background": "light"
     },
     "output_type": "display_data"
    }
   ],
   "source": [
    "_delta['Total_delta'].plot()"
   ]
  },
  {
   "cell_type": "code",
   "execution_count": 74,
   "id": "7a9f17f9",
   "metadata": {},
   "outputs": [
    {
     "data": {
      "text/plain": [
       "<AxesSubplot:xlabel='Date'>"
      ]
     },
     "execution_count": 74,
     "metadata": {},
     "output_type": "execute_result"
    },
    {
     "data": {
      "image/png": "[encoded data removed]",
      "text/plain": [
       "<Figure size 432x288 with 1 Axes>"
      ]
     },
     "metadata": {
      "needs_background": "light"
     },
     "output_type": "display_data"
    }
   ],
   "source": [
    "_vega['Total_vega'].plot()"
   ]
  },
  {
   "cell_type": "code",
   "execution_count": 75,
   "id": "2de3c486",
   "metadata": {},
   "outputs": [
    {
     "data": {
      "text/html": [
       "<div>\n",
       "<style scoped>\n",
       "    .dataframe tbody tr th:only-of-type {\n",
       "        vertical-align: middle;\n",
       "    }\n",
       "\n",
       "    .dataframe tbody tr th {\n",
       "        vertical-align: top;\n",
       "    }\n",
       "\n",
       "    .dataframe thead th {\n",
       "        text-align: right;\n",
       "    }\n",
       "</style>\n",
       "<table border=\"1\" class=\"dataframe\">\n",
       "  <thead>\n",
       "    <tr style=\"text-align: right;\">\n",
       "      <th></th>\n",
       "      <th>USDCNY_delta</th>\n",
       "      <th>USDBRL_delta</th>\n",
       "      <th>USDZAR_delta</th>\n",
       "      <th>USDRUB_delta</th>\n",
       "      <th>EURUSD_delta</th>\n",
       "      <th>USDJPY_delta</th>\n",
       "      <th>USDMXN_delta</th>\n",
       "      <th>USDCAD_delta</th>\n",
       "      <th>Total_delta</th>\n",
       "    </tr>\n",
       "    <tr>\n",
       "      <th>Date</th>\n",
       "      <th></th>\n",
       "      <th></th>\n",
       "      <th></th>\n",
       "      <th></th>\n",
       "      <th></th>\n",
       "      <th></th>\n",
       "      <th></th>\n",
       "      <th></th>\n",
       "      <th></th>\n",
       "    </tr>\n",
       "  </thead>\n",
       "  <tbody>\n",
       "    <tr>\n",
       "      <th>2016-04-01</th>\n",
       "      <td>0.0</td>\n",
       "      <td>0.0</td>\n",
       "      <td>0</td>\n",
       "      <td>0.0</td>\n",
       "      <td>48493.266674</td>\n",
       "      <td>0.000000</td>\n",
       "      <td>0.0</td>\n",
       "      <td>0.0</td>\n",
       "      <td>48493.266674</td>\n",
       "    </tr>\n",
       "    <tr>\n",
       "      <th>2016-04-04</th>\n",
       "      <td>0.0</td>\n",
       "      <td>0.0</td>\n",
       "      <td>0</td>\n",
       "      <td>0.0</td>\n",
       "      <td>48822.936661</td>\n",
       "      <td>0.000000</td>\n",
       "      <td>0.0</td>\n",
       "      <td>0.0</td>\n",
       "      <td>48822.936661</td>\n",
       "    </tr>\n",
       "    <tr>\n",
       "      <th>2016-04-05</th>\n",
       "      <td>0.0</td>\n",
       "      <td>0.0</td>\n",
       "      <td>0</td>\n",
       "      <td>0.0</td>\n",
       "      <td>47798.022000</td>\n",
       "      <td>0.000000</td>\n",
       "      <td>0.0</td>\n",
       "      <td>0.0</td>\n",
       "      <td>47798.022000</td>\n",
       "    </tr>\n",
       "    <tr>\n",
       "      <th>2016-04-06</th>\n",
       "      <td>0.0</td>\n",
       "      <td>0.0</td>\n",
       "      <td>0</td>\n",
       "      <td>0.0</td>\n",
       "      <td>49784.586746</td>\n",
       "      <td>0.000000</td>\n",
       "      <td>0.0</td>\n",
       "      <td>0.0</td>\n",
       "      <td>49784.586746</td>\n",
       "    </tr>\n",
       "    <tr>\n",
       "      <th>2016-04-07</th>\n",
       "      <td>0.0</td>\n",
       "      <td>0.0</td>\n",
       "      <td>0</td>\n",
       "      <td>0.0</td>\n",
       "      <td>46752.664035</td>\n",
       "      <td>0.000000</td>\n",
       "      <td>0.0</td>\n",
       "      <td>0.0</td>\n",
       "      <td>46752.664035</td>\n",
       "    </tr>\n",
       "    <tr>\n",
       "      <th>...</th>\n",
       "      <td>...</td>\n",
       "      <td>...</td>\n",
       "      <td>...</td>\n",
       "      <td>...</td>\n",
       "      <td>...</td>\n",
       "      <td>...</td>\n",
       "      <td>...</td>\n",
       "      <td>...</td>\n",
       "      <td>...</td>\n",
       "    </tr>\n",
       "    <tr>\n",
       "      <th>2021-05-26</th>\n",
       "      <td>0.0</td>\n",
       "      <td>0.0</td>\n",
       "      <td>0</td>\n",
       "      <td>0.0</td>\n",
       "      <td>0.000000</td>\n",
       "      <td>82685.125902</td>\n",
       "      <td>0.0</td>\n",
       "      <td>0.0</td>\n",
       "      <td>82685.125902</td>\n",
       "    </tr>\n",
       "    <tr>\n",
       "      <th>2021-05-27</th>\n",
       "      <td>0.0</td>\n",
       "      <td>0.0</td>\n",
       "      <td>0</td>\n",
       "      <td>0.0</td>\n",
       "      <td>0.000000</td>\n",
       "      <td>114070.466183</td>\n",
       "      <td>0.0</td>\n",
       "      <td>0.0</td>\n",
       "      <td>114070.466183</td>\n",
       "    </tr>\n",
       "    <tr>\n",
       "      <th>2021-05-28</th>\n",
       "      <td>0.0</td>\n",
       "      <td>0.0</td>\n",
       "      <td>0</td>\n",
       "      <td>0.0</td>\n",
       "      <td>0.000000</td>\n",
       "      <td>117828.799915</td>\n",
       "      <td>0.0</td>\n",
       "      <td>0.0</td>\n",
       "      <td>117828.799915</td>\n",
       "    </tr>\n",
       "    <tr>\n",
       "      <th>2021-05-31</th>\n",
       "      <td>0.0</td>\n",
       "      <td>0.0</td>\n",
       "      <td>0</td>\n",
       "      <td>0.0</td>\n",
       "      <td>0.000000</td>\n",
       "      <td>123409.063180</td>\n",
       "      <td>0.0</td>\n",
       "      <td>0.0</td>\n",
       "      <td>123409.063180</td>\n",
       "    </tr>\n",
       "    <tr>\n",
       "      <th>2021-06-01</th>\n",
       "      <td>0.0</td>\n",
       "      <td>0.0</td>\n",
       "      <td>0</td>\n",
       "      <td>0.0</td>\n",
       "      <td>0.000000</td>\n",
       "      <td>0.000000</td>\n",
       "      <td>0.0</td>\n",
       "      <td>0.0</td>\n",
       "      <td>0.000000</td>\n",
       "    </tr>\n",
       "  </tbody>\n",
       "</table>\n",
       "<p>1348 rows × 9 columns</p>\n",
       "</div>"
      ],
      "text/plain": [
       "            USDCNY_delta  USDBRL_delta  USDZAR_delta  USDRUB_delta  \\\n",
       "Date                                                                 \n",
       "2016-04-01           0.0           0.0             0           0.0   \n",
       "2016-04-04           0.0           0.0             0           0.0   \n",
       "2016-04-05           0.0           0.0             0           0.0   \n",
       "2016-04-06           0.0           0.0             0           0.0   \n",
       "2016-04-07           0.0           0.0             0           0.0   \n",
       "...                  ...           ...           ...           ...   \n",
       "2021-05-26           0.0           0.0             0           0.0   \n",
       "2021-05-27           0.0           0.0             0           0.0   \n",
       "2021-05-28           0.0           0.0             0           0.0   \n",
       "2021-05-31           0.0           0.0             0           0.0   \n",
       "2021-06-01           0.0           0.0             0           0.0   \n",
       "\n",
       "            EURUSD_delta   USDJPY_delta  USDMXN_delta  USDCAD_delta  \\\n",
       "Date                                                                  \n",
       "2016-04-01  48493.266674       0.000000           0.0           0.0   \n",
       "2016-04-04  48822.936661       0.000000           0.0           0.0   \n",
       "2016-04-05  47798.022000       0.000000           0.0           0.0   \n",
       "2016-04-06  49784.586746       0.000000           0.0           0.0   \n",
       "2016-04-07  46752.664035       0.000000           0.0           0.0   \n",
       "...                  ...            ...           ...           ...   \n",
       "2021-05-26      0.000000   82685.125902           0.0           0.0   \n",
       "2021-05-27      0.000000  114070.466183           0.0           0.0   \n",
       "2021-05-28      0.000000  117828.799915           0.0           0.0   \n",
       "2021-05-31      0.000000  123409.063180           0.0           0.0   \n",
       "2021-06-01      0.000000       0.000000           0.0           0.0   \n",
       "\n",
       "              Total_delta  \n",
       "Date                       \n",
       "2016-04-01   48493.266674  \n",
       "2016-04-04   48822.936661  \n",
       "2016-04-05   47798.022000  \n",
       "2016-04-06   49784.586746  \n",
       "2016-04-07   46752.664035  \n",
       "...                   ...  \n",
       "2021-05-26   82685.125902  \n",
       "2021-05-27  114070.466183  \n",
       "2021-05-28  117828.799915  \n",
       "2021-05-31  123409.063180  \n",
       "2021-06-01       0.000000  \n",
       "\n",
       "[1348 rows x 9 columns]"
      ]
     },
     "execution_count": 75,
     "metadata": {},
     "output_type": "execute_result"
    }
   ],
   "source": [
    "_delta"
   ]
  },
  {
   "cell_type": "code",
   "execution_count": 77,
   "id": "30467d36",
   "metadata": {},
   "outputs": [
    {
     "data": {
      "text/plain": [
       "USDCNY_delta    0.0\n",
       "USDBRL_delta    0.0\n",
       "USDZAR_delta    0.0\n",
       "USDRUB_delta    0.0\n",
       "EURUSD_delta    0.0\n",
       "USDJPY_delta    0.0\n",
       "USDMXN_delta    0.0\n",
       "USDCAD_delta    0.0\n",
       "Total_delta     0.0\n",
       "Name: 2016-09-30 00:00:00, dtype: float64"
      ]
     },
     "execution_count": 77,
     "metadata": {},
     "output_type": "execute_result"
    }
   ],
   "source": [
    "_delta.loc['2016-09-30'] # its zero because is an options maturity date "
   ]
  },
  {
   "cell_type": "code",
   "execution_count": 80,
   "id": "b2ec06f9",
   "metadata": {},
   "outputs": [
    {
     "data": {
      "text/plain": [
       "DatetimeIndex(['2016-04-01', '2016-05-02', '2016-06-01', '2016-07-01',\n",
       "               '2016-08-01', '2016-09-01', '2016-10-03', '2016-11-01',\n",
       "               '2016-12-01', '2017-01-02', '2017-02-01', '2017-03-01',\n",
       "               '2017-04-03', '2017-05-01', '2017-06-01', '2017-07-03',\n",
       "               '2017-08-01', '2017-09-01', '2017-10-02', '2017-11-01',\n",
       "               '2017-12-01', '2018-01-01', '2018-02-01', '2018-03-01',\n",
       "               '2018-04-02', '2018-05-01', '2018-06-01', '2018-07-02',\n",
       "               '2018-08-01', '2018-09-03', '2018-10-01', '2018-11-01',\n",
       "               '2018-12-03', '2019-01-01', '2019-02-01', '2019-03-01',\n",
       "               '2019-04-01', '2019-05-01', '2019-06-03', '2019-07-01',\n",
       "               '2019-08-01', '2019-09-02', '2019-10-01', '2019-11-01',\n",
       "               '2019-12-02', '2020-01-01', '2020-02-03', '2020-03-02',\n",
       "               '2020-04-01', '2020-05-01', '2020-06-01', '2020-07-01',\n",
       "               '2020-08-03', '2020-09-01', '2020-10-01', '2020-11-02',\n",
       "               '2020-12-01', '2021-01-01', '2021-02-01', '2021-03-01',\n",
       "               '2021-04-01', '2021-05-03'],\n",
       "              dtype='datetime64[ns]', freq=None)"
      ]
     },
     "execution_count": 80,
     "metadata": {},
     "output_type": "execute_result"
    }
   ],
   "source": [
    "# Risk dates are the dates where new options are bought\n",
    "risk_dates"
   ]
  },
  {
   "cell_type": "code",
   "execution_count": null,
   "id": "a1c4dc7c",
   "metadata": {},
   "outputs": [],
   "source": []
  },
  {
   "cell_type": "code",
   "execution_count": null,
   "id": "0edaecea",
   "metadata": {},
   "outputs": [],
   "source": []
  },
  {
   "cell_type": "code",
   "execution_count": null,
   "id": "fa80726b",
   "metadata": {},
   "outputs": [],
   "source": []
  },
  {
   "cell_type": "code",
   "execution_count": null,
   "id": "1a047f64",
   "metadata": {},
   "outputs": [],
   "source": []
  },
  {
   "cell_type": "markdown",
   "id": "4d7795ee",
   "metadata": {},
   "source": [
    "# Risk Management - VaR CVaR"
   ]
  },
  {
   "cell_type": "code",
   "execution_count": 97,
   "id": "ceefaa09",
   "metadata": {},
   "outputs": [],
   "source": [
    "def VaR_CVaR_MC(factReturns, risk_position, spot_vols, numTrials, alpha1=5, alpha2=1):\n",
    "\n",
    "    # We assume the FX spot prices and ATM volatilities follow a multivariate-normal structure with\n",
    "    # corresponding correlation matrix.\n",
    "    \n",
    "    # risk_position is delta+vega position in USD \n",
    "    \n",
    "    # spot_vols is spot+ATMvol - we assume a parallel shift in the whole surface\n",
    "    \n",
    "    mean = factReturns.mean()\n",
    "    cov = factReturns.cov()\n",
    "    \n",
    "    trialReturns = []\n",
    "    for i in range(numTrials):\n",
    "\n",
    "        # Generate the sample of factor returns\n",
    "        trialFactorReturns = np.random.multivariate_normal(mean,cov)\n",
    "\n",
    "        # Calculate the returns of each instrument, and then calculate teh total returns for this trial.\n",
    "        #trailTotalReturn = np.dot(self.weight, trialFactorReturns)\n",
    "\n",
    "        trialReturns.append(trialFactorReturns)\n",
    "\n",
    "    df = pd.DataFrame(trialReturns)\n",
    "    # Risk if we are long (delta and vega)\n",
    "    VaR95_p = df.quantile(alpha1/100,interpolation='linear')\n",
    "    cVaR95_p = df[df<= VaR95_p].mean()\n",
    "    VaR99_p = df.quantile(alpha2/100,interpolation='linear')\n",
    "    cVaR99_p = df[df<= VaR99_p].mean()\n",
    "    # Risk if we are long (delta and vega)\n",
    "    VaR95_m = df.quantile((100-alpha1)/100,interpolation='linear')\n",
    "    cVaR95_m = df[df>= VaR95_m].mean()\n",
    "    VaR99_m = df.quantile((100-alpha2)/100,interpolation='linear')\n",
    "    cVaR99_m = df[df>= VaR99_m].mean()\n",
    "    # Choose the side according to the metric\n",
    "    VaR95 = pd.Series(np.zeros(16))\n",
    "    cVaR95 = pd.Series(np.zeros(16))\n",
    "    VaR99 = pd.Series(np.zeros(16))\n",
    "    cVaR99 = pd.Series(np.zeros(16))\n",
    "    for i in range(len(risk_position)):\n",
    "        if i < 8:\n",
    "            aux = 1 # For delta position\n",
    "        else:\n",
    "            aux = spot_vols[i] # For vega position\n",
    "        #Calculate risks\n",
    "        if risk_position[i]>=0:\n",
    "            VaR95[i] = VaR95_p[i] * risk_position[i] * aux\n",
    "            cVaR95[i] = cVaR95_p[i] * risk_position[i]* aux\n",
    "            VaR99[i] = VaR99_p[i] * risk_position[i]* aux\n",
    "            cVaR99[i] = cVaR99_p[i] * risk_position[i]* aux\n",
    "        else:\n",
    "            VaR95[i] = VaR95_m[i] * risk_position[i]* aux\n",
    "            cVaR95[i] = cVaR95_m[i] * risk_position[i]* aux\n",
    "            VaR99[i] = VaR99_m[i] * risk_position[i]* aux\n",
    "            cVaR99[i] = cVaR99_m[i] * risk_position[i]* aux\n",
    "\n",
    "    return VaR95, cVaR95, VaR99, cVaR99, VaR95_p, cVaR95_p, VaR99_p, cVaR99_p, VaR95_m, cVaR95_m, VaR99_m, cVaR99_m"
   ]
  },
  {
   "cell_type": "code",
   "execution_count": null,
   "id": "9f6c7d47",
   "metadata": {},
   "outputs": [],
   "source": []
  },
  {
   "cell_type": "code",
   "execution_count": 99,
   "id": "7186670e",
   "metadata": {},
   "outputs": [
    {
     "name": "stdout",
     "output_type": "stream",
     "text": [
      "123\n"
     ]
    },
    {
     "data": {
      "text/plain": [
       "DatetimeIndex(['2011-04-01', '2011-05-01', '2011-06-01', '2011-07-01',\n",
       "               '2011-08-01', '2011-09-01', '2011-10-01', '2011-11-01',\n",
       "               '2011-12-01', '2012-01-01',\n",
       "               ...\n",
       "               '2020-09-01', '2020-10-01', '2020-11-01', '2020-12-01',\n",
       "               '2021-01-01', '2021-02-01', '2021-03-01', '2021-04-01',\n",
       "               '2021-05-01', '2021-06-01'],\n",
       "              dtype='datetime64[ns]', length=123, freq='MS')"
      ]
     },
     "execution_count": 99,
     "metadata": {},
     "output_type": "execute_result"
    }
   ],
   "source": [
    "# Create a list for dates to calibrate risk_metrics - how much history to calculate VaR and cVaR\n",
    "# in this case we are using 5 years \n",
    "start = pd.to_datetime('2011-04-01')\n",
    "end = pd.to_datetime('2021-06-01')\n",
    "calibrate_risk = pd.date_range(start, end, freq='MS')\n",
    "print(len(calibrate_risk))\n",
    "calibrate_risk"
   ]
  },
  {
   "cell_type": "code",
   "execution_count": 101,
   "id": "c5481ac3",
   "metadata": {},
   "outputs": [
    {
     "data": {
      "text/html": [
       "<div>\n",
       "<style scoped>\n",
       "    .dataframe tbody tr th:only-of-type {\n",
       "        vertical-align: middle;\n",
       "    }\n",
       "\n",
       "    .dataframe tbody tr th {\n",
       "        vertical-align: top;\n",
       "    }\n",
       "\n",
       "    .dataframe thead th {\n",
       "        text-align: right;\n",
       "    }\n",
       "</style>\n",
       "<table border=\"1\" class=\"dataframe\">\n",
       "  <thead>\n",
       "    <tr style=\"text-align: right;\">\n",
       "      <th></th>\n",
       "      <th>VaR95</th>\n",
       "      <th>cVar95</th>\n",
       "      <th>VaR99</th>\n",
       "      <th>cVaR99</th>\n",
       "    </tr>\n",
       "    <tr>\n",
       "      <th>Date</th>\n",
       "      <th></th>\n",
       "      <th></th>\n",
       "      <th></th>\n",
       "      <th></th>\n",
       "    </tr>\n",
       "  </thead>\n",
       "  <tbody>\n",
       "    <tr>\n",
       "      <th>2016-04-01</th>\n",
       "      <td>-504.87</td>\n",
       "      <td>-633.42</td>\n",
       "      <td>-750.67</td>\n",
       "      <td>-817.66</td>\n",
       "    </tr>\n",
       "    <tr>\n",
       "      <th>2016-05-02</th>\n",
       "      <td>-479.87</td>\n",
       "      <td>-590.53</td>\n",
       "      <td>-666.01</td>\n",
       "      <td>-779.59</td>\n",
       "    </tr>\n",
       "    <tr>\n",
       "      <th>2016-06-01</th>\n",
       "      <td>-339.75</td>\n",
       "      <td>-419.06</td>\n",
       "      <td>-462.61</td>\n",
       "      <td>-528.00</td>\n",
       "    </tr>\n",
       "    <tr>\n",
       "      <th>2016-07-01</th>\n",
       "      <td>-304.48</td>\n",
       "      <td>-382.42</td>\n",
       "      <td>-430.35</td>\n",
       "      <td>-486.87</td>\n",
       "    </tr>\n",
       "    <tr>\n",
       "      <th>2016-08-01</th>\n",
       "      <td>-364.39</td>\n",
       "      <td>-455.42</td>\n",
       "      <td>-510.41</td>\n",
       "      <td>-577.18</td>\n",
       "    </tr>\n",
       "    <tr>\n",
       "      <th>...</th>\n",
       "      <td>...</td>\n",
       "      <td>...</td>\n",
       "      <td>...</td>\n",
       "      <td>...</td>\n",
       "    </tr>\n",
       "    <tr>\n",
       "      <th>2021-01-01</th>\n",
       "      <td>-473.27</td>\n",
       "      <td>-574.96</td>\n",
       "      <td>-619.86</td>\n",
       "      <td>-705.17</td>\n",
       "    </tr>\n",
       "    <tr>\n",
       "      <th>2021-02-01</th>\n",
       "      <td>-556.53</td>\n",
       "      <td>-681.90</td>\n",
       "      <td>-776.30</td>\n",
       "      <td>-873.68</td>\n",
       "    </tr>\n",
       "    <tr>\n",
       "      <th>2021-03-01</th>\n",
       "      <td>-589.53</td>\n",
       "      <td>-759.67</td>\n",
       "      <td>-909.23</td>\n",
       "      <td>-1030.99</td>\n",
       "    </tr>\n",
       "    <tr>\n",
       "      <th>2021-04-01</th>\n",
       "      <td>-625.07</td>\n",
       "      <td>-820.77</td>\n",
       "      <td>-943.04</td>\n",
       "      <td>-1095.61</td>\n",
       "    </tr>\n",
       "    <tr>\n",
       "      <th>2021-05-03</th>\n",
       "      <td>-605.69</td>\n",
       "      <td>-759.46</td>\n",
       "      <td>-839.12</td>\n",
       "      <td>-981.41</td>\n",
       "    </tr>\n",
       "  </tbody>\n",
       "</table>\n",
       "<p>62 rows × 4 columns</p>\n",
       "</div>"
      ],
      "text/plain": [
       "             VaR95  cVar95   VaR99   cVaR99\n",
       "Date                                       \n",
       "2016-04-01 -504.87 -633.42 -750.67  -817.66\n",
       "2016-05-02 -479.87 -590.53 -666.01  -779.59\n",
       "2016-06-01 -339.75 -419.06 -462.61  -528.00\n",
       "2016-07-01 -304.48 -382.42 -430.35  -486.87\n",
       "2016-08-01 -364.39 -455.42 -510.41  -577.18\n",
       "...            ...     ...     ...      ...\n",
       "2021-01-01 -473.27 -574.96 -619.86  -705.17\n",
       "2021-02-01 -556.53 -681.90 -776.30  -873.68\n",
       "2021-03-01 -589.53 -759.67 -909.23 -1030.99\n",
       "2021-04-01 -625.07 -820.77 -943.04 -1095.61\n",
       "2021-05-03 -605.69 -759.46 -839.12  -981.41\n",
       "\n",
       "[62 rows x 4 columns]"
      ]
     },
     "execution_count": 101,
     "metadata": {},
     "output_type": "execute_result"
    }
   ],
   "source": [
    "# Generate a list with all the PnL DataFrames\n",
    "# yearly so i + 60, 5 years of history to calibrate\n",
    "n = 1000   #number of trials\n",
    "# risk_dates are the dates where option strategies start \n",
    "# calibrate_risk are dates that help us to calibrate the multivariate normal distribution\n",
    "risk_df = pd.DataFrame()\n",
    "\n",
    "for i in range(len(risk_dates)):\n",
    "    # Generate the returns history to calibrate multivariate normal distribution\n",
    "    tdate1 = calibrate_risk[i]\n",
    "    tdate2 = calibrate_risk[i+60]\n",
    "    returns_risk = retfxvol[(tdate1<=retfxvol.index)&(retfxvol.index<=tdate2)].copy()\n",
    "\n",
    "    # Get the risk positions \n",
    "    risk_pos = _delta.loc[risk_dates[i]][:-1].append(_vega.loc[risk_dates[i]][:-1])\n",
    "    \n",
    "    # Get the prices (spot-vols)\n",
    "    prices = spot_vols.loc[risk_dates[i]]\n",
    "    \n",
    "    # Calculate numeric VaR and cVar\n",
    "    #VaR95, cVaR95, VaR99, cVaR99 = VaR_CVaR_MC(returns_risk, risk_pos, prices, n)\n",
    "    risk1 = VaR_CVaR_MC(returns_risk, risk_pos, prices, n)\n",
    "        \n",
    "    # Join a DataFrame\n",
    "    #aux_df = pd.DataFrame(np.array([[VaR95.sum(),cVaR95.sum(),VaR99.sum(),cVaR99.sum()]]), \\\n",
    "                          #columns=['VaR95', 'cVar95', 'VaR99','cVaR99'])\n",
    "    aux_df = pd.DataFrame(np.array([[risk1[0].sum(),risk1[1].sum(),risk1[2].sum(),risk1[3].sum()]]), \\\n",
    "                          columns=['VaR95', 'cVar95', 'VaR99','cVaR99'])\n",
    "        \n",
    "    risk_df = pd.concat([risk_df,aux_df])\n",
    "# set index to  be the pnl dates\n",
    "risk_df.index = risk_dates\n",
    "# Rename index column\n",
    "risk_df = risk_df.reset_index().rename(columns={'index':'Date'}).set_index('Date').copy()\n",
    "risk_df = risk_df.round(2)\n",
    "risk_df"
   ]
  },
  {
   "cell_type": "code",
   "execution_count": 102,
   "id": "607ea1ed",
   "metadata": {},
   "outputs": [],
   "source": []
  },
  {
   "cell_type": "code",
   "execution_count": null,
   "id": "d93a34d8",
   "metadata": {},
   "outputs": [],
   "source": []
  },
  {
   "cell_type": "code",
   "execution_count": 138,
   "id": "e2716156",
   "metadata": {},
   "outputs": [],
   "source": [
    "# Code finishes"
   ]
  },
  {
   "cell_type": "code",
   "execution_count": null,
   "id": "e5fad779",
   "metadata": {},
   "outputs": [],
   "source": []
  },
  {
   "cell_type": "code",
   "execution_count": null,
   "id": "931fe603",
   "metadata": {},
   "outputs": [],
   "source": []
  },
  {
   "cell_type": "code",
   "execution_count": null,
   "id": "ff8eb6c9",
   "metadata": {},
   "outputs": [],
   "source": []
  },
  {
   "cell_type": "code",
   "execution_count": null,
   "id": "75318440",
   "metadata": {},
   "outputs": [],
   "source": []
  },
  {
   "cell_type": "code",
   "execution_count": null,
   "id": "3742dffa",
   "metadata": {},
   "outputs": [],
   "source": []
  },
  {
   "cell_type": "code",
   "execution_count": null,
   "id": "17d7a97b",
   "metadata": {},
   "outputs": [],
   "source": []
  },
  {
   "cell_type": "code",
   "execution_count": null,
   "id": "ee32aa87",
   "metadata": {},
   "outputs": [],
   "source": []
  },
  {
   "cell_type": "code",
   "execution_count": null,
   "id": "6346e61a",
   "metadata": {},
   "outputs": [],
   "source": []
  },
  {
   "cell_type": "code",
   "execution_count": null,
   "id": "5f3b7b9c",
   "metadata": {},
   "outputs": [],
   "source": []
  },
  {
   "cell_type": "code",
   "execution_count": null,
   "id": "275e0ee1",
   "metadata": {},
   "outputs": [],
   "source": []
  },
  {
   "cell_type": "markdown",
   "id": "9abf6535",
   "metadata": {},
   "source": [
    "# Reconcile the first row of risk metrics VaR and cVaR (95 and 99)"
   ]
  },
  {
   "cell_type": "code",
   "execution_count": 139,
   "id": "189ecf50",
   "metadata": {},
   "outputs": [
    {
     "data": {
      "text/html": [
       "<div>\n",
       "<style scoped>\n",
       "    .dataframe tbody tr th:only-of-type {\n",
       "        vertical-align: middle;\n",
       "    }\n",
       "\n",
       "    .dataframe tbody tr th {\n",
       "        vertical-align: top;\n",
       "    }\n",
       "\n",
       "    .dataframe thead th {\n",
       "        text-align: right;\n",
       "    }\n",
       "</style>\n",
       "<table border=\"1\" class=\"dataframe\">\n",
       "  <thead>\n",
       "    <tr style=\"text-align: right;\">\n",
       "      <th></th>\n",
       "      <th>USDCNYspot</th>\n",
       "      <th>USDBRLspot</th>\n",
       "      <th>USDZARspot</th>\n",
       "      <th>USDRUBspot</th>\n",
       "      <th>EURUSDspot</th>\n",
       "      <th>USDJPYspot</th>\n",
       "      <th>USDMXNspot</th>\n",
       "      <th>USDCADspot</th>\n",
       "      <th>USDCNYvol</th>\n",
       "      <th>USDBRLvol</th>\n",
       "      <th>USDZARvol</th>\n",
       "      <th>USDRUBvol</th>\n",
       "      <th>EURUSDvol</th>\n",
       "      <th>USDJPYvol</th>\n",
       "      <th>USDMXNvol</th>\n",
       "      <th>USDCADvol</th>\n",
       "    </tr>\n",
       "    <tr>\n",
       "      <th>Date</th>\n",
       "      <th></th>\n",
       "      <th></th>\n",
       "      <th></th>\n",
       "      <th></th>\n",
       "      <th></th>\n",
       "      <th></th>\n",
       "      <th></th>\n",
       "      <th></th>\n",
       "      <th></th>\n",
       "      <th></th>\n",
       "      <th></th>\n",
       "      <th></th>\n",
       "      <th></th>\n",
       "      <th></th>\n",
       "      <th></th>\n",
       "      <th></th>\n",
       "    </tr>\n",
       "  </thead>\n",
       "  <tbody>\n",
       "    <tr>\n",
       "      <th>2011-04-01</th>\n",
       "      <td>-0.001099</td>\n",
       "      <td>-0.015865</td>\n",
       "      <td>-0.011293</td>\n",
       "      <td>-0.003011</td>\n",
       "      <td>0.005580</td>\n",
       "      <td>0.011187</td>\n",
       "      <td>-0.005569</td>\n",
       "      <td>-0.007624</td>\n",
       "      <td>0.014161</td>\n",
       "      <td>-0.011550</td>\n",
       "      <td>-0.005791</td>\n",
       "      <td>-0.019952</td>\n",
       "      <td>-0.007838</td>\n",
       "      <td>-0.006074</td>\n",
       "      <td>-0.014595</td>\n",
       "      <td>-0.011675</td>\n",
       "    </tr>\n",
       "    <tr>\n",
       "      <th>2011-04-04</th>\n",
       "      <td>-0.000031</td>\n",
       "      <td>0.000622</td>\n",
       "      <td>0.003300</td>\n",
       "      <td>-0.001718</td>\n",
       "      <td>-0.001124</td>\n",
       "      <td>0.000000</td>\n",
       "      <td>0.000963</td>\n",
       "      <td>0.003945</td>\n",
       "      <td>-0.002148</td>\n",
       "      <td>0.008082</td>\n",
       "      <td>0.004368</td>\n",
       "      <td>-0.020359</td>\n",
       "      <td>-0.030437</td>\n",
       "      <td>-0.029245</td>\n",
       "      <td>-0.005107</td>\n",
       "      <td>-0.005907</td>\n",
       "    </tr>\n",
       "    <tr>\n",
       "      <th>2011-04-05</th>\n",
       "      <td>-0.000672</td>\n",
       "      <td>0.001182</td>\n",
       "      <td>0.000833</td>\n",
       "      <td>0.000484</td>\n",
       "      <td>0.000141</td>\n",
       "      <td>0.009636</td>\n",
       "      <td>-0.002684</td>\n",
       "      <td>-0.003309</td>\n",
       "      <td>-0.002153</td>\n",
       "      <td>-0.018835</td>\n",
       "      <td>-0.005074</td>\n",
       "      <td>0.015509</td>\n",
       "      <td>-0.008387</td>\n",
       "      <td>-0.009892</td>\n",
       "      <td>-0.032033</td>\n",
       "      <td>-0.018419</td>\n",
       "    </tr>\n",
       "    <tr>\n",
       "      <th>2011-04-06</th>\n",
       "      <td>0.000642</td>\n",
       "      <td>0.003169</td>\n",
       "      <td>-0.005948</td>\n",
       "      <td>-0.005483</td>\n",
       "      <td>0.007593</td>\n",
       "      <td>0.007305</td>\n",
       "      <td>-0.000990</td>\n",
       "      <td>-0.003113</td>\n",
       "      <td>0.000000</td>\n",
       "      <td>0.018704</td>\n",
       "      <td>0.001093</td>\n",
       "      <td>0.002443</td>\n",
       "      <td>0.014258</td>\n",
       "      <td>0.026794</td>\n",
       "      <td>-0.008485</td>\n",
       "      <td>0.002119</td>\n",
       "    </tr>\n",
       "    <tr>\n",
       "      <th>2011-04-07</th>\n",
       "      <td>-0.000107</td>\n",
       "      <td>-0.017280</td>\n",
       "      <td>-0.002992</td>\n",
       "      <td>0.003005</td>\n",
       "      <td>-0.001605</td>\n",
       "      <td>-0.006784</td>\n",
       "      <td>-0.002829</td>\n",
       "      <td>-0.002706</td>\n",
       "      <td>0.010787</td>\n",
       "      <td>-0.005605</td>\n",
       "      <td>0.000910</td>\n",
       "      <td>-0.001828</td>\n",
       "      <td>0.005242</td>\n",
       "      <td>0.024326</td>\n",
       "      <td>-0.005670</td>\n",
       "      <td>-0.001510</td>\n",
       "    </tr>\n",
       "    <tr>\n",
       "      <th>...</th>\n",
       "      <td>...</td>\n",
       "      <td>...</td>\n",
       "      <td>...</td>\n",
       "      <td>...</td>\n",
       "      <td>...</td>\n",
       "      <td>...</td>\n",
       "      <td>...</td>\n",
       "      <td>...</td>\n",
       "      <td>...</td>\n",
       "      <td>...</td>\n",
       "      <td>...</td>\n",
       "      <td>...</td>\n",
       "      <td>...</td>\n",
       "      <td>...</td>\n",
       "      <td>...</td>\n",
       "      <td>...</td>\n",
       "    </tr>\n",
       "    <tr>\n",
       "      <th>2016-03-28</th>\n",
       "      <td>-0.001304</td>\n",
       "      <td>-0.013353</td>\n",
       "      <td>0.001333</td>\n",
       "      <td>0.000808</td>\n",
       "      <td>0.002597</td>\n",
       "      <td>0.003272</td>\n",
       "      <td>-0.005958</td>\n",
       "      <td>-0.006255</td>\n",
       "      <td>0.005392</td>\n",
       "      <td>0.010788</td>\n",
       "      <td>0.002070</td>\n",
       "      <td>0.003048</td>\n",
       "      <td>0.017090</td>\n",
       "      <td>0.010947</td>\n",
       "      <td>-0.016202</td>\n",
       "      <td>0.013118</td>\n",
       "    </tr>\n",
       "    <tr>\n",
       "      <th>2016-03-29</th>\n",
       "      <td>0.000046</td>\n",
       "      <td>0.002839</td>\n",
       "      <td>-0.019805</td>\n",
       "      <td>-0.006049</td>\n",
       "      <td>0.008485</td>\n",
       "      <td>-0.006611</td>\n",
       "      <td>-0.005128</td>\n",
       "      <td>-0.008569</td>\n",
       "      <td>-0.052199</td>\n",
       "      <td>-0.014942</td>\n",
       "      <td>-0.016407</td>\n",
       "      <td>-0.004087</td>\n",
       "      <td>-0.036966</td>\n",
       "      <td>0.000000</td>\n",
       "      <td>0.015677</td>\n",
       "      <td>-0.008324</td>\n",
       "    </tr>\n",
       "    <tr>\n",
       "      <th>2016-03-30</th>\n",
       "      <td>-0.006070</td>\n",
       "      <td>-0.008740</td>\n",
       "      <td>-0.015129</td>\n",
       "      <td>0.002296</td>\n",
       "      <td>0.004163</td>\n",
       "      <td>-0.002396</td>\n",
       "      <td>-0.006503</td>\n",
       "      <td>-0.008261</td>\n",
       "      <td>-0.054696</td>\n",
       "      <td>-0.011070</td>\n",
       "      <td>-0.011121</td>\n",
       "      <td>-0.020730</td>\n",
       "      <td>-0.025922</td>\n",
       "      <td>-0.046139</td>\n",
       "      <td>0.010134</td>\n",
       "      <td>-0.032408</td>\n",
       "    </tr>\n",
       "    <tr>\n",
       "      <th>2016-03-31</th>\n",
       "      <td>-0.002273</td>\n",
       "      <td>-0.003799</td>\n",
       "      <td>-0.011540</td>\n",
       "      <td>-0.017486</td>\n",
       "      <td>0.003704</td>\n",
       "      <td>0.001245</td>\n",
       "      <td>0.002733</td>\n",
       "      <td>0.002931</td>\n",
       "      <td>-0.003192</td>\n",
       "      <td>0.039870</td>\n",
       "      <td>-0.015494</td>\n",
       "      <td>-0.011176</td>\n",
       "      <td>0.033777</td>\n",
       "      <td>-0.018263</td>\n",
       "      <td>0.028168</td>\n",
       "      <td>-0.010361</td>\n",
       "    </tr>\n",
       "    <tr>\n",
       "      <th>2016-04-01</th>\n",
       "      <td>0.004370</td>\n",
       "      <td>-0.010799</td>\n",
       "      <td>-0.004490</td>\n",
       "      <td>0.007676</td>\n",
       "      <td>0.000967</td>\n",
       "      <td>-0.007817</td>\n",
       "      <td>0.003478</td>\n",
       "      <td>0.000538</td>\n",
       "      <td>0.008006</td>\n",
       "      <td>0.021438</td>\n",
       "      <td>-0.013707</td>\n",
       "      <td>-0.010759</td>\n",
       "      <td>0.008416</td>\n",
       "      <td>-0.001508</td>\n",
       "      <td>0.010883</td>\n",
       "      <td>-0.000974</td>\n",
       "    </tr>\n",
       "  </tbody>\n",
       "</table>\n",
       "<p>1306 rows × 16 columns</p>\n",
       "</div>"
      ],
      "text/plain": [
       "            USDCNYspot  USDBRLspot  USDZARspot  USDRUBspot  EURUSDspot  \\\n",
       "Date                                                                     \n",
       "2011-04-01   -0.001099   -0.015865   -0.011293   -0.003011    0.005580   \n",
       "2011-04-04   -0.000031    0.000622    0.003300   -0.001718   -0.001124   \n",
       "2011-04-05   -0.000672    0.001182    0.000833    0.000484    0.000141   \n",
       "2011-04-06    0.000642    0.003169   -0.005948   -0.005483    0.007593   \n",
       "2011-04-07   -0.000107   -0.017280   -0.002992    0.003005   -0.001605   \n",
       "...                ...         ...         ...         ...         ...   \n",
       "2016-03-28   -0.001304   -0.013353    0.001333    0.000808    0.002597   \n",
       "2016-03-29    0.000046    0.002839   -0.019805   -0.006049    0.008485   \n",
       "2016-03-30   -0.006070   -0.008740   -0.015129    0.002296    0.004163   \n",
       "2016-03-31   -0.002273   -0.003799   -0.011540   -0.017486    0.003704   \n",
       "2016-04-01    0.004370   -0.010799   -0.004490    0.007676    0.000967   \n",
       "\n",
       "            USDJPYspot  USDMXNspot  USDCADspot  USDCNYvol  USDBRLvol  \\\n",
       "Date                                                                   \n",
       "2011-04-01    0.011187   -0.005569   -0.007624   0.014161  -0.011550   \n",
       "2011-04-04    0.000000    0.000963    0.003945  -0.002148   0.008082   \n",
       "2011-04-05    0.009636   -0.002684   -0.003309  -0.002153  -0.018835   \n",
       "2011-04-06    0.007305   -0.000990   -0.003113   0.000000   0.018704   \n",
       "2011-04-07   -0.006784   -0.002829   -0.002706   0.010787  -0.005605   \n",
       "...                ...         ...         ...        ...        ...   \n",
       "2016-03-28    0.003272   -0.005958   -0.006255   0.005392   0.010788   \n",
       "2016-03-29   -0.006611   -0.005128   -0.008569  -0.052199  -0.014942   \n",
       "2016-03-30   -0.002396   -0.006503   -0.008261  -0.054696  -0.011070   \n",
       "2016-03-31    0.001245    0.002733    0.002931  -0.003192   0.039870   \n",
       "2016-04-01   -0.007817    0.003478    0.000538   0.008006   0.021438   \n",
       "\n",
       "            USDZARvol  USDRUBvol  EURUSDvol  USDJPYvol  USDMXNvol  USDCADvol  \n",
       "Date                                                                          \n",
       "2011-04-01  -0.005791  -0.019952  -0.007838  -0.006074  -0.014595  -0.011675  \n",
       "2011-04-04   0.004368  -0.020359  -0.030437  -0.029245  -0.005107  -0.005907  \n",
       "2011-04-05  -0.005074   0.015509  -0.008387  -0.009892  -0.032033  -0.018419  \n",
       "2011-04-06   0.001093   0.002443   0.014258   0.026794  -0.008485   0.002119  \n",
       "2011-04-07   0.000910  -0.001828   0.005242   0.024326  -0.005670  -0.001510  \n",
       "...               ...        ...        ...        ...        ...        ...  \n",
       "2016-03-28   0.002070   0.003048   0.017090   0.010947  -0.016202   0.013118  \n",
       "2016-03-29  -0.016407  -0.004087  -0.036966   0.000000   0.015677  -0.008324  \n",
       "2016-03-30  -0.011121  -0.020730  -0.025922  -0.046139   0.010134  -0.032408  \n",
       "2016-03-31  -0.015494  -0.011176   0.033777  -0.018263   0.028168  -0.010361  \n",
       "2016-04-01  -0.013707  -0.010759   0.008416  -0.001508   0.010883  -0.000974  \n",
       "\n",
       "[1306 rows x 16 columns]"
      ]
     },
     "execution_count": 139,
     "metadata": {},
     "output_type": "execute_result"
    }
   ],
   "source": [
    "tdate1 = calibrate_risk[0]\n",
    "tdate2 = calibrate_risk[60]\n",
    "returns_risk = retfxvol[(tdate1<=retfxvol.index)&(retfxvol.index<=tdate2)].copy()\n",
    "returns_risk"
   ]
  },
  {
   "cell_type": "code",
   "execution_count": 104,
   "id": "228cab0b",
   "metadata": {},
   "outputs": [
    {
     "data": {
      "text/plain": [
       "USDCNYspot   -0.011880\n",
       "USDBRLspot   -0.057909\n",
       "USDZARspot   -0.049543\n",
       "USDRUBspot   -0.159250\n",
       "EURUSDspot   -0.021107\n",
       "USDJPYspot   -0.029744\n",
       "USDMXNspot   -0.037916\n",
       "USDCADspot   -0.019495\n",
       "USDCNYvol    -0.200504\n",
       "USDBRLvol    -0.149311\n",
       "USDZARvol    -0.113467\n",
       "USDRUBvol    -0.136768\n",
       "EURUSDvol    -0.116988\n",
       "USDJPYvol    -0.121165\n",
       "USDMXNvol    -0.158192\n",
       "USDCADvol    -0.122761\n",
       "dtype: float64"
      ]
     },
     "execution_count": 104,
     "metadata": {},
     "output_type": "execute_result"
    }
   ],
   "source": [
    "returns_risk.min()"
   ]
  },
  {
   "cell_type": "code",
   "execution_count": 105,
   "id": "92730bd2",
   "metadata": {},
   "outputs": [
    {
     "data": {
      "text/plain": [
       "USDCNY_delta        0.000000\n",
       "USDBRL_delta        0.000000\n",
       "USDZAR_delta        0.000000\n",
       "USDRUB_delta        0.000000\n",
       "EURUSD_delta    48493.266674\n",
       "USDJPY_delta        0.000000\n",
       "USDMXN_delta        0.000000\n",
       "USDCAD_delta        0.000000\n",
       "USDCNY_vega         0.000000\n",
       "USDBRL_vega         0.000000\n",
       "USDZAR_vega         0.000000\n",
       "USDRUB_vega         0.000000\n",
       "EURUSD_vega        96.887532\n",
       "USDJPY_vega         0.000000\n",
       "USDMXN_vega         0.000000\n",
       "USDCAD_vega         0.000000\n",
       "Name: 2016-04-01 00:00:00, dtype: float64"
      ]
     },
     "execution_count": 105,
     "metadata": {},
     "output_type": "execute_result"
    }
   ],
   "source": [
    "# Get the risk positions \n",
    "risk_pos = _delta.loc[risk_dates[0]][:-1].append(_vega.loc[risk_dates[0]][:-1])\n",
    "risk_pos"
   ]
  },
  {
   "cell_type": "code",
   "execution_count": 106,
   "id": "20f2e42e",
   "metadata": {},
   "outputs": [
    {
     "data": {
      "text/plain": [
       "USDCNYspot      6.4818\n",
       "USDBRLspot      3.5540\n",
       "USDZARspot     14.7010\n",
       "USDRUBspot     67.5662\n",
       "EURUSDspot      1.1391\n",
       "USDJPYspot    111.6900\n",
       "USDMXNspot     17.3391\n",
       "USDCADspot      1.3011\n",
       "USDCNYvol       6.2950\n",
       "USDBRLvol      22.2980\n",
       "USDZARvol      19.4275\n",
       "USDRUBvol      22.7575\n",
       "EURUSDvol      10.1850\n",
       "USDJPYvol       9.9300\n",
       "USDMXNvol      13.4680\n",
       "USDCADvol      10.2575\n",
       "Name: 2016-04-01 00:00:00, dtype: float64"
      ]
     },
     "execution_count": 106,
     "metadata": {},
     "output_type": "execute_result"
    }
   ],
   "source": [
    "# Get the prices (spot-vols)\n",
    "prices = spot_vols.loc[risk_dates[0]]\n",
    "prices"
   ]
  },
  {
   "cell_type": "code",
   "execution_count": 107,
   "id": "5e458dcd",
   "metadata": {},
   "outputs": [],
   "source": [
    "# Calculate numeric VaR and cVar\n",
    "#VaR95, cVaR95, VaR99, cVaR99 = VaR_CVaR_MC(returns_risk, risk_pos, prices, 1000)\n",
    "risks_metrics = VaR_CVaR_MC(returns_risk, risk_pos, prices, 1000)"
   ]
  },
  {
   "cell_type": "code",
   "execution_count": 110,
   "id": "8317a7cb",
   "metadata": {},
   "outputs": [
    {
     "data": {
      "text/plain": [
       "-515.7070311233573"
      ]
     },
     "execution_count": 110,
     "metadata": {},
     "output_type": "execute_result"
    }
   ],
   "source": [
    "risks_metrics[0].sum()"
   ]
  },
  {
   "cell_type": "code",
   "execution_count": 111,
   "id": "1015b2ac",
   "metadata": {},
   "outputs": [
    {
     "data": {
      "text/plain": [
       "0      -0.000000\n",
       "1      -0.000000\n",
       "2      -0.000000\n",
       "3      -0.000000\n",
       "4    -471.161942\n",
       "5      -0.000000\n",
       "6      -0.000000\n",
       "7      -0.000000\n",
       "8      -0.000000\n",
       "9      -0.000000\n",
       "10     -0.000000\n",
       "11     -0.000000\n",
       "12    -44.545089\n",
       "13     -0.000000\n",
       "14     -0.000000\n",
       "15     -0.000000\n",
       "dtype: float64"
      ]
     },
     "execution_count": 111,
     "metadata": {},
     "output_type": "execute_result"
    }
   ],
   "source": [
    "risks_metrics[0]"
   ]
  },
  {
   "cell_type": "code",
   "execution_count": 112,
   "id": "cdf7a75b",
   "metadata": {},
   "outputs": [
    {
     "data": {
      "text/plain": [
       "0    -0.002248\n",
       "1    -0.017110\n",
       "2    -0.015246\n",
       "3    -0.020969\n",
       "4    -0.009716\n",
       "5    -0.008580\n",
       "6    -0.011178\n",
       "7    -0.008347\n",
       "8    -0.138840\n",
       "9    -0.051844\n",
       "10   -0.037541\n",
       "11   -0.054451\n",
       "12   -0.045141\n",
       "13   -0.051526\n",
       "14   -0.051153\n",
       "15   -0.042433\n",
       "Name: 0.05, dtype: float64"
      ]
     },
     "execution_count": 112,
     "metadata": {},
     "output_type": "execute_result"
    }
   ],
   "source": [
    "risks_metrics[4]"
   ]
  },
  {
   "cell_type": "code",
   "execution_count": 125,
   "id": "920c8664",
   "metadata": {},
   "outputs": [
    {
     "data": {
      "text/plain": [
       "48493.266674305756"
      ]
     },
     "execution_count": 125,
     "metadata": {},
     "output_type": "execute_result"
    }
   ],
   "source": [
    "# Delta impact \n",
    "# Value of delta \n",
    "risk_pos[4]"
   ]
  },
  {
   "cell_type": "code",
   "execution_count": 126,
   "id": "9fe1bf4a",
   "metadata": {},
   "outputs": [
    {
     "data": {
      "text/plain": [
       "-0.00971602811054818"
      ]
     },
     "execution_count": 126,
     "metadata": {},
     "output_type": "execute_result"
    }
   ],
   "source": [
    "# how much the underlying can change \n",
    "risks_metrics[4][4]"
   ]
  },
  {
   "cell_type": "code",
   "execution_count": 127,
   "id": "9297d6ee",
   "metadata": {},
   "outputs": [
    {
     "data": {
      "text/plain": [
       "-471.16194217986396"
      ]
     },
     "execution_count": 127,
     "metadata": {},
     "output_type": "execute_result"
    }
   ],
   "source": [
    "# Impact of delta in 1 day \n",
    "risk_pos[4] * risks_metrics[4][4]"
   ]
  },
  {
   "cell_type": "code",
   "execution_count": 128,
   "id": "3a06fca3",
   "metadata": {},
   "outputs": [
    {
     "data": {
      "text/plain": [
       "96.88753169771911"
      ]
     },
     "execution_count": 128,
     "metadata": {},
     "output_type": "execute_result"
    }
   ],
   "source": [
    "# How much is the vega risk \n",
    "risk_pos[12] "
   ]
  },
  {
   "cell_type": "code",
   "execution_count": 129,
   "id": "8e9136ed",
   "metadata": {},
   "outputs": [
    {
     "data": {
      "text/plain": [
       "10.185"
      ]
     },
     "execution_count": 129,
     "metadata": {},
     "output_type": "execute_result"
    }
   ],
   "source": [
    "# how much is the vol spot\n",
    "prices[12]"
   ]
  },
  {
   "cell_type": "code",
   "execution_count": 130,
   "id": "7f55fd6f",
   "metadata": {},
   "outputs": [
    {
     "data": {
      "text/plain": [
       "-0.04514097187592662"
      ]
     },
     "execution_count": 130,
     "metadata": {},
     "output_type": "execute_result"
    }
   ],
   "source": [
    "# How much the volatility can move \n",
    "risks_metrics[4][12]"
   ]
  },
  {
   "cell_type": "code",
   "execution_count": 131,
   "id": "b5a2c514",
   "metadata": {},
   "outputs": [
    {
     "data": {
      "text/plain": [
       "-0.45976079855631263"
      ]
     },
     "execution_count": 131,
     "metadata": {},
     "output_type": "execute_result"
    }
   ],
   "source": [
    "# Hoe much in vol terms the vol can change \n",
    "prices[12] * risks_metrics[4][12]"
   ]
  },
  {
   "cell_type": "code",
   "execution_count": 133,
   "id": "6da052b7",
   "metadata": {},
   "outputs": [
    {
     "data": {
      "text/plain": [
       "-44.54508894349339"
      ]
     },
     "execution_count": 133,
     "metadata": {},
     "output_type": "execute_result"
    }
   ],
   "source": [
    "# pnl if the volatilty changes that amount\n",
    "risk_pos[12] * prices[12] * risks_metrics[4][12]"
   ]
  },
  {
   "cell_type": "code",
   "execution_count": 134,
   "id": "da28e9d3",
   "metadata": {},
   "outputs": [
    {
     "data": {
      "text/plain": [
       "-1023.5675776273854"
      ]
     },
     "execution_count": 134,
     "metadata": {},
     "output_type": "execute_result"
    }
   ],
   "source": [
    "# Check the minimum of the calibration period, to see if higher than VaR99 and cVaR99\n",
    "risk_pos[4] * returns_risk.min()[4]"
   ]
  },
  {
   "cell_type": "code",
   "execution_count": 135,
   "id": "585d20a8",
   "metadata": {},
   "outputs": [
    {
     "data": {
      "text/plain": [
       "-115.44371551412972"
      ]
     },
     "execution_count": 135,
     "metadata": {},
     "output_type": "execute_result"
    }
   ],
   "source": [
    "risk_pos[12] * prices[12] * returns_risk.min()[12]"
   ]
  },
  {
   "cell_type": "code",
   "execution_count": 136,
   "id": "3243580b",
   "metadata": {},
   "outputs": [],
   "source": [
    "# Done OK "
   ]
  },
  {
   "cell_type": "code",
   "execution_count": null,
   "id": "21cc5424",
   "metadata": {},
   "outputs": [],
   "source": []
  },
  {
   "cell_type": "markdown",
   "id": "24329aa6",
   "metadata": {},
   "source": [
    "# Older things - Trash"
   ]
  },
  {
   "cell_type": "code",
   "execution_count": 41,
   "id": "06c12b29",
   "metadata": {},
   "outputs": [
    {
     "name": "stderr",
     "output_type": "stream",
     "text": [
      "/Users/PlumpsCrap/opt/anaconda3/lib/python3.8/site-packages/scipy/optimize/nonlin.py:472: RuntimeWarning: invalid value encountered in double_scalars\n",
      "  and dx_norm/self.x_rtol <= x_norm))\n"
     ]
    }
   ],
   "source": [
    "start = dates_to_split[0]\n",
    "end = dates_to_split[1]\n",
    "strategy = transform(weights)\n",
    "cash = 1000\n",
    "test = FX_Volatility.performe(vols_dict[ccy_order[6]],riskfree, start, end, bos, strategy[1], cash)"
   ]
  },
  {
   "cell_type": "code",
   "execution_count": null,
   "id": "f288215d",
   "metadata": {},
   "outputs": [],
   "source": [
    "\n",
    "# Get the strategy by CCY \n",
    "\n",
    "\n",
    "\n",
    "\n",
    "# Define available cash and cash per currency\n",
    "all_cash = 100000 * .20\n",
    "count_3 = np.count_nonzero(strategies == 3)\n",
    "cash_p1 = all_cash / (8- count_3)\n",
    "# Define Bid-Offer spread (in vegas)\n",
    "bos = 0.75\n",
    "# Consolidate to one DataFrame with the same dates than returns\n",
    "all_pnl = allbase.copy()\n",
    "start = dates[0] \n",
    "end = dates[1]\n",
    "all_pnl = all_pnl[(start<=all_pnl.index)&(all_pnl.index<=end)]\n",
    "all_pnl.drop(list(all_pnl.columns),axis=1,inplace=True)\n",
    "# Define dates of exercies \n",
    "for i in range(8):\n",
    "    pnl_i = performe(globals()[ccy[i]],allbase['RFR'], dates[0],dates[1], bos, strategies[i],cash_p1).pnl()\n",
    "    all_pnl = all_pnl.join(pnl_i)\n",
    "# Generate a column for all pnl \n",
    "suffix = ['_spot', '_premium','_mv','_pnl', '_delta', '_gamma','_vega','_theta']\n",
    "just_pnl = all_pnl.copy()\n",
    "for i in just_pnl.columns:\n",
    "    if i[6:] == suffix[3]:\n",
    "        pass\n",
    "    else:\n",
    "        just_pnl.drop(i,axis=1,inplace=True)"
   ]
  },
  {
   "cell_type": "code",
   "execution_count": null,
   "id": "550f9328",
   "metadata": {},
   "outputs": [],
   "source": []
  },
  {
   "cell_type": "code",
   "execution_count": 3,
   "id": "529be826",
   "metadata": {},
   "outputs": [
    {
     "data": {
      "text/html": [
       "<div>\n",
       "<style scoped>\n",
       "    .dataframe tbody tr th:only-of-type {\n",
       "        vertical-align: middle;\n",
       "    }\n",
       "\n",
       "    .dataframe tbody tr th {\n",
       "        vertical-align: top;\n",
       "    }\n",
       "\n",
       "    .dataframe thead th {\n",
       "        text-align: right;\n",
       "    }\n",
       "</style>\n",
       "<table border=\"1\" class=\"dataframe\">\n",
       "  <thead>\n",
       "    <tr style=\"text-align: right;\">\n",
       "      <th></th>\n",
       "      <th>USA_EWJ</th>\n",
       "      <th>USA_EWT</th>\n",
       "      <th>USA_MCHI</th>\n",
       "      <th>USA_EWY</th>\n",
       "      <th>USA_EWZ</th>\n",
       "      <th>USA_INDA</th>\n",
       "      <th>USA_ACWV</th>\n",
       "      <th>USA_IDV</th>\n",
       "      <th>USA_EWC</th>\n",
       "      <th>USA_EWU</th>\n",
       "      <th>...</th>\n",
       "      <th>CAN_HULC.TO</th>\n",
       "      <th>CAN_HMUS.TO</th>\n",
       "      <th>CAN_HSUV.TO</th>\n",
       "      <th>USA_CNY=X</th>\n",
       "      <th>USA_BRL=X</th>\n",
       "      <th>USA_ZAR=X</th>\n",
       "      <th>USA_RUB=X</th>\n",
       "      <th>USA_EUR=X</th>\n",
       "      <th>USA_JPY=X</th>\n",
       "      <th>USA_MXN=X</th>\n",
       "    </tr>\n",
       "    <tr>\n",
       "      <th>Date</th>\n",
       "      <th></th>\n",
       "      <th></th>\n",
       "      <th></th>\n",
       "      <th></th>\n",
       "      <th></th>\n",
       "      <th></th>\n",
       "      <th></th>\n",
       "      <th></th>\n",
       "      <th></th>\n",
       "      <th></th>\n",
       "      <th></th>\n",
       "      <th></th>\n",
       "      <th></th>\n",
       "      <th></th>\n",
       "      <th></th>\n",
       "      <th></th>\n",
       "      <th></th>\n",
       "      <th></th>\n",
       "      <th></th>\n",
       "      <th></th>\n",
       "      <th></th>\n",
       "    </tr>\n",
       "  </thead>\n",
       "  <tbody>\n",
       "    <tr>\n",
       "      <th>2011-01-04</th>\n",
       "      <td>0.000804</td>\n",
       "      <td>-0.007407</td>\n",
       "      <td>NaN</td>\n",
       "      <td>0.002263</td>\n",
       "      <td>0.004396</td>\n",
       "      <td>NaN</td>\n",
       "      <td>NaN</td>\n",
       "      <td>-0.009259</td>\n",
       "      <td>-0.010412</td>\n",
       "      <td>0.010462</td>\n",
       "      <td>...</td>\n",
       "      <td>NaN</td>\n",
       "      <td>NaN</td>\n",
       "      <td>NaN</td>\n",
       "      <td>-0.001760</td>\n",
       "      <td>0.019189</td>\n",
       "      <td>0.006326</td>\n",
       "      <td>0.0</td>\n",
       "      <td>0.000134</td>\n",
       "      <td>0.006743</td>\n",
       "      <td>-0.000384</td>\n",
       "    </tr>\n",
       "    <tr>\n",
       "      <th>2011-01-05</th>\n",
       "      <td>-0.007231</td>\n",
       "      <td>-0.016584</td>\n",
       "      <td>NaN</td>\n",
       "      <td>0.000376</td>\n",
       "      <td>-0.011616</td>\n",
       "      <td>NaN</td>\n",
       "      <td>NaN</td>\n",
       "      <td>-0.002596</td>\n",
       "      <td>0.002023</td>\n",
       "      <td>-0.002157</td>\n",
       "      <td>...</td>\n",
       "      <td>NaN</td>\n",
       "      <td>NaN</td>\n",
       "      <td>NaN</td>\n",
       "      <td>0.002584</td>\n",
       "      <td>0.012754</td>\n",
       "      <td>0.003853</td>\n",
       "      <td>0.0</td>\n",
       "      <td>0.002671</td>\n",
       "      <td>0.004506</td>\n",
       "      <td>-0.004249</td>\n",
       "    </tr>\n",
       "    <tr>\n",
       "      <th>2011-01-06</th>\n",
       "      <td>0.000000</td>\n",
       "      <td>-0.002108</td>\n",
       "      <td>NaN</td>\n",
       "      <td>-0.006960</td>\n",
       "      <td>-0.010049</td>\n",
       "      <td>NaN</td>\n",
       "      <td>NaN</td>\n",
       "      <td>-0.009891</td>\n",
       "      <td>-0.004847</td>\n",
       "      <td>-0.008647</td>\n",
       "      <td>...</td>\n",
       "      <td>NaN</td>\n",
       "      <td>NaN</td>\n",
       "      <td>NaN</td>\n",
       "      <td>-0.002956</td>\n",
       "      <td>0.004498</td>\n",
       "      <td>0.008670</td>\n",
       "      <td>0.0</td>\n",
       "      <td>0.012522</td>\n",
       "      <td>0.014030</td>\n",
       "      <td>0.003119</td>\n",
       "    </tr>\n",
       "    <tr>\n",
       "      <th>2011-01-07</th>\n",
       "      <td>0.003777</td>\n",
       "      <td>-0.015632</td>\n",
       "      <td>NaN</td>\n",
       "      <td>0.005493</td>\n",
       "      <td>-0.009119</td>\n",
       "      <td>NaN</td>\n",
       "      <td>NaN</td>\n",
       "      <td>-0.005258</td>\n",
       "      <td>0.000406</td>\n",
       "      <td>-0.003925</td>\n",
       "      <td>...</td>\n",
       "      <td>NaN</td>\n",
       "      <td>NaN</td>\n",
       "      <td>NaN</td>\n",
       "      <td>0.005929</td>\n",
       "      <td>0.006507</td>\n",
       "      <td>0.012983</td>\n",
       "      <td>0.0</td>\n",
       "      <td>0.013551</td>\n",
       "      <td>0.001334</td>\n",
       "      <td>0.000573</td>\n",
       "    </tr>\n",
       "    <tr>\n",
       "      <th>2011-01-10</th>\n",
       "      <td>0.000000</td>\n",
       "      <td>0.002146</td>\n",
       "      <td>NaN</td>\n",
       "      <td>-0.014883</td>\n",
       "      <td>-0.010071</td>\n",
       "      <td>NaN</td>\n",
       "      <td>NaN</td>\n",
       "      <td>0.000529</td>\n",
       "      <td>-0.003651</td>\n",
       "      <td>0.001751</td>\n",
       "      <td>...</td>\n",
       "      <td>NaN</td>\n",
       "      <td>NaN</td>\n",
       "      <td>NaN</td>\n",
       "      <td>0.000151</td>\n",
       "      <td>-0.029895</td>\n",
       "      <td>-0.000295</td>\n",
       "      <td>0.0</td>\n",
       "      <td>0.006620</td>\n",
       "      <td>-0.003241</td>\n",
       "      <td>-0.001063</td>\n",
       "    </tr>\n",
       "  </tbody>\n",
       "</table>\n",
       "<p>5 rows × 128 columns</p>\n",
       "</div>"
      ],
      "text/plain": [
       "             USA_EWJ   USA_EWT  USA_MCHI   USA_EWY   USA_EWZ  USA_INDA  \\\n",
       "Date                                                                     \n",
       "2011-01-04  0.000804 -0.007407       NaN  0.002263  0.004396       NaN   \n",
       "2011-01-05 -0.007231 -0.016584       NaN  0.000376 -0.011616       NaN   \n",
       "2011-01-06  0.000000 -0.002108       NaN -0.006960 -0.010049       NaN   \n",
       "2011-01-07  0.003777 -0.015632       NaN  0.005493 -0.009119       NaN   \n",
       "2011-01-10  0.000000  0.002146       NaN -0.014883 -0.010071       NaN   \n",
       "\n",
       "            USA_ACWV   USA_IDV   USA_EWC   USA_EWU  ...  CAN_HULC.TO  \\\n",
       "Date                                                ...                \n",
       "2011-01-04       NaN -0.009259 -0.010412  0.010462  ...          NaN   \n",
       "2011-01-05       NaN -0.002596  0.002023 -0.002157  ...          NaN   \n",
       "2011-01-06       NaN -0.009891 -0.004847 -0.008647  ...          NaN   \n",
       "2011-01-07       NaN -0.005258  0.000406 -0.003925  ...          NaN   \n",
       "2011-01-10       NaN  0.000529 -0.003651  0.001751  ...          NaN   \n",
       "\n",
       "            CAN_HMUS.TO  CAN_HSUV.TO  USA_CNY=X  USA_BRL=X  USA_ZAR=X  \\\n",
       "Date                                                                    \n",
       "2011-01-04          NaN          NaN  -0.001760   0.019189   0.006326   \n",
       "2011-01-05          NaN          NaN   0.002584   0.012754   0.003853   \n",
       "2011-01-06          NaN          NaN  -0.002956   0.004498   0.008670   \n",
       "2011-01-07          NaN          NaN   0.005929   0.006507   0.012983   \n",
       "2011-01-10          NaN          NaN   0.000151  -0.029895  -0.000295   \n",
       "\n",
       "            USA_RUB=X  USA_EUR=X  USA_JPY=X  USA_MXN=X  \n",
       "Date                                                    \n",
       "2011-01-04        0.0   0.000134   0.006743  -0.000384  \n",
       "2011-01-05        0.0   0.002671   0.004506  -0.004249  \n",
       "2011-01-06        0.0   0.012522   0.014030   0.003119  \n",
       "2011-01-07        0.0   0.013551   0.001334   0.000573  \n",
       "2011-01-10        0.0   0.006620  -0.003241  -0.001063  \n",
       "\n",
       "[5 rows x 128 columns]"
      ]
     },
     "execution_count": 3,
     "metadata": {},
     "output_type": "execute_result"
    }
   ],
   "source": [
    "rets = pd.read_csv(\"returns.csv\")[1:] # without the first row of NA\n",
    "# Reindex to date\n",
    "rets.index = pd.to_datetime(rets['Date'])\n",
    "del rets['Date']\n",
    "rets.head()"
   ]
  },
  {
   "cell_type": "code",
   "execution_count": 4,
   "id": "f7d058cb",
   "metadata": {},
   "outputs": [],
   "source": [
    "ccy_list = ['USA_MXN=X', 'USA_JPY=X', 'USA_EUR=X', 'USA_RUB=X', 'USA_ZAR=X', 'USA_BRL=X', 'USA_CNY=X']"
   ]
  },
  {
   "cell_type": "code",
   "execution_count": 5,
   "id": "187ff812",
   "metadata": {},
   "outputs": [
    {
     "data": {
      "text/html": [
       "<div>\n",
       "<style scoped>\n",
       "    .dataframe tbody tr th:only-of-type {\n",
       "        vertical-align: middle;\n",
       "    }\n",
       "\n",
       "    .dataframe tbody tr th {\n",
       "        vertical-align: top;\n",
       "    }\n",
       "\n",
       "    .dataframe thead th {\n",
       "        text-align: right;\n",
       "    }\n",
       "</style>\n",
       "<table border=\"1\" class=\"dataframe\">\n",
       "  <thead>\n",
       "    <tr style=\"text-align: right;\">\n",
       "      <th></th>\n",
       "      <th>USA_CNY=X</th>\n",
       "      <th>USA_BRL=X</th>\n",
       "      <th>USA_ZAR=X</th>\n",
       "      <th>USA_RUB=X</th>\n",
       "      <th>USA_EUR=X</th>\n",
       "      <th>USA_JPY=X</th>\n",
       "      <th>USA_MXN=X</th>\n",
       "    </tr>\n",
       "    <tr>\n",
       "      <th>Date</th>\n",
       "      <th></th>\n",
       "      <th></th>\n",
       "      <th></th>\n",
       "      <th></th>\n",
       "      <th></th>\n",
       "      <th></th>\n",
       "      <th></th>\n",
       "    </tr>\n",
       "  </thead>\n",
       "  <tbody>\n",
       "    <tr>\n",
       "      <th>2011-01-04</th>\n",
       "      <td>-0.001760</td>\n",
       "      <td>0.019189</td>\n",
       "      <td>0.006326</td>\n",
       "      <td>0.0</td>\n",
       "      <td>0.000134</td>\n",
       "      <td>0.006743</td>\n",
       "      <td>-0.000384</td>\n",
       "    </tr>\n",
       "    <tr>\n",
       "      <th>2011-01-05</th>\n",
       "      <td>0.002584</td>\n",
       "      <td>0.012754</td>\n",
       "      <td>0.003853</td>\n",
       "      <td>0.0</td>\n",
       "      <td>0.002671</td>\n",
       "      <td>0.004506</td>\n",
       "      <td>-0.004249</td>\n",
       "    </tr>\n",
       "    <tr>\n",
       "      <th>2011-01-06</th>\n",
       "      <td>-0.002956</td>\n",
       "      <td>0.004498</td>\n",
       "      <td>0.008670</td>\n",
       "      <td>0.0</td>\n",
       "      <td>0.012522</td>\n",
       "      <td>0.014030</td>\n",
       "      <td>0.003119</td>\n",
       "    </tr>\n",
       "    <tr>\n",
       "      <th>2011-01-07</th>\n",
       "      <td>0.005929</td>\n",
       "      <td>0.006507</td>\n",
       "      <td>0.012983</td>\n",
       "      <td>0.0</td>\n",
       "      <td>0.013551</td>\n",
       "      <td>0.001334</td>\n",
       "      <td>0.000573</td>\n",
       "    </tr>\n",
       "    <tr>\n",
       "      <th>2011-01-10</th>\n",
       "      <td>0.000151</td>\n",
       "      <td>-0.029895</td>\n",
       "      <td>-0.000295</td>\n",
       "      <td>0.0</td>\n",
       "      <td>0.006620</td>\n",
       "      <td>-0.003241</td>\n",
       "      <td>-0.001063</td>\n",
       "    </tr>\n",
       "  </tbody>\n",
       "</table>\n",
       "</div>"
      ],
      "text/plain": [
       "            USA_CNY=X  USA_BRL=X  USA_ZAR=X  USA_RUB=X  USA_EUR=X  USA_JPY=X  \\\n",
       "Date                                                                           \n",
       "2011-01-04  -0.001760   0.019189   0.006326        0.0   0.000134   0.006743   \n",
       "2011-01-05   0.002584   0.012754   0.003853        0.0   0.002671   0.004506   \n",
       "2011-01-06  -0.002956   0.004498   0.008670        0.0   0.012522   0.014030   \n",
       "2011-01-07   0.005929   0.006507   0.012983        0.0   0.013551   0.001334   \n",
       "2011-01-10   0.000151  -0.029895  -0.000295        0.0   0.006620  -0.003241   \n",
       "\n",
       "            USA_MXN=X  \n",
       "Date                   \n",
       "2011-01-04  -0.000384  \n",
       "2011-01-05  -0.004249  \n",
       "2011-01-06   0.003119  \n",
       "2011-01-07   0.000573  \n",
       "2011-01-10  -0.001063  "
      ]
     },
     "execution_count": 5,
     "metadata": {},
     "output_type": "execute_result"
    }
   ],
   "source": [
    "for i in rets.columns:\n",
    "    if not i in ccy_list:\n",
    "        rets.drop(i, axis=1, inplace=True)\n",
    "rets.head()"
   ]
  },
  {
   "cell_type": "code",
   "execution_count": 282,
   "id": "145e5a0e",
   "metadata": {},
   "outputs": [
    {
     "data": {
      "text/plain": [
       "USDCNYspot       6.2303\n",
       "USDCNY1WFWD    632.0000\n",
       "USDCNY1MFWD    754.0000\n",
       "USDCNY3MFWD    780.0000\n",
       "USDCNY1WATM      1.5500\n",
       "USDCNY1WRR       0.1750\n",
       "USDCNY1WBF       0.1275\n",
       "USDCNY1MATM      1.7025\n",
       "USDCNY1MRR       0.1975\n",
       "USDCNY1MBF       0.0575\n",
       "USDCNY3MATM      1.7450\n",
       "USDCNY3MRR       0.2225\n",
       "USDCNY3MBF       0.1075\n",
       "Name: 2013-01-01 00:00:00, dtype: float64"
      ]
     },
     "execution_count": 282,
     "metadata": {},
     "output_type": "execute_result"
    }
   ],
   "source": [
    "vols_dict['USDCNY'].loc['2013-01-01']"
   ]
  },
  {
   "cell_type": "code",
   "execution_count": null,
   "id": "3d17942a",
   "metadata": {},
   "outputs": [],
   "source": []
  },
  {
   "cell_type": "code",
   "execution_count": 463,
   "id": "f6ff5309",
   "metadata": {},
   "outputs": [],
   "source": [
    "# OLD SHARPE RATIO \n",
    "\n",
    "# Maximum Sharpe Ratio Portfolio\n",
    "# def sharpe_ratio_calculation(w,_return,_cov):\n",
    "#     return - _return.mul(w,axis=1).sum(axis=1).cumsum()[-1]/np.sqrt(np.dot(w.T,np.dot(_cov,w)))\n",
    "\n",
    "# def sharpe_ratio_maximization(portfolio):\n",
    "#     _return = portfolio\n",
    "#     _cov = portfolio.cov()\n",
    "#     n = _cov.shape[0]\n",
    "#     constraints = [{'type':'eq','fun': lambda x: sum(x)-1}]\n",
    "#     outcome = minimize(sharpe_ratio_calculation,x0 = np.repeat(1/n,n),args = (_return,_cov), \n",
    "#                        constraints = constraints, bounds= tuple((-1,1) for x in range(n)))\n",
    "#     return outcome.x"
   ]
  },
  {
   "cell_type": "code",
   "execution_count": null,
   "id": "072895ab",
   "metadata": {},
   "outputs": [],
   "source": []
  },
  {
   "cell_type": "code",
   "execution_count": null,
   "id": "86f37142",
   "metadata": {},
   "outputs": [],
   "source": []
  },
  {
   "cell_type": "code",
   "execution_count": 82,
   "id": "903f9da2",
   "metadata": {},
   "outputs": [
    {
     "data": {
      "text/html": [
       "<div>\n",
       "<style scoped>\n",
       "    .dataframe tbody tr th:only-of-type {\n",
       "        vertical-align: middle;\n",
       "    }\n",
       "\n",
       "    .dataframe tbody tr th {\n",
       "        vertical-align: top;\n",
       "    }\n",
       "\n",
       "    .dataframe thead th {\n",
       "        text-align: right;\n",
       "    }\n",
       "</style>\n",
       "<table border=\"1\" class=\"dataframe\">\n",
       "  <thead>\n",
       "    <tr style=\"text-align: right;\">\n",
       "      <th></th>\n",
       "      <th>USDCNYspot</th>\n",
       "      <th>USDBRLspot</th>\n",
       "      <th>USDZARspot</th>\n",
       "      <th>USDRUBspot</th>\n",
       "      <th>EURUSDspot</th>\n",
       "      <th>USDJPYspot</th>\n",
       "      <th>USDMXNspot</th>\n",
       "      <th>USDCADspot</th>\n",
       "      <th>USDCNYvol</th>\n",
       "      <th>USDBRLvol</th>\n",
       "      <th>USDZARvol</th>\n",
       "      <th>USDRUBvol</th>\n",
       "      <th>EURUSDvol</th>\n",
       "      <th>USDJPYvol</th>\n",
       "      <th>USDMXNvol</th>\n",
       "      <th>USDCADvol</th>\n",
       "    </tr>\n",
       "    <tr>\n",
       "      <th>Date</th>\n",
       "      <th></th>\n",
       "      <th></th>\n",
       "      <th></th>\n",
       "      <th></th>\n",
       "      <th></th>\n",
       "      <th></th>\n",
       "      <th></th>\n",
       "      <th></th>\n",
       "      <th></th>\n",
       "      <th></th>\n",
       "      <th></th>\n",
       "      <th></th>\n",
       "      <th></th>\n",
       "      <th></th>\n",
       "      <th></th>\n",
       "      <th></th>\n",
       "    </tr>\n",
       "  </thead>\n",
       "  <tbody>\n",
       "    <tr>\n",
       "      <th>2016-01-01</th>\n",
       "      <td>0.000000</td>\n",
       "      <td>0.000000</td>\n",
       "      <td>0.005754</td>\n",
       "      <td>0.000000</td>\n",
       "      <td>-0.000552</td>\n",
       "      <td>0.002745</td>\n",
       "      <td>0.003202</td>\n",
       "      <td>0.001156</td>\n",
       "      <td>0.004979</td>\n",
       "      <td>-0.002637</td>\n",
       "      <td>-0.005592</td>\n",
       "      <td>0.001124</td>\n",
       "      <td>-0.000755</td>\n",
       "      <td>-0.001869</td>\n",
       "      <td>0.002847</td>\n",
       "      <td>0.001929</td>\n",
       "    </tr>\n",
       "    <tr>\n",
       "      <th>2016-01-04</th>\n",
       "      <td>0.006129</td>\n",
       "      <td>0.018946</td>\n",
       "      <td>0.001208</td>\n",
       "      <td>-0.005791</td>\n",
       "      <td>-0.002303</td>\n",
       "      <td>-0.009208</td>\n",
       "      <td>0.002699</td>\n",
       "      <td>0.007073</td>\n",
       "      <td>0.021341</td>\n",
       "      <td>0.013574</td>\n",
       "      <td>0.011514</td>\n",
       "      <td>-0.022325</td>\n",
       "      <td>0.007049</td>\n",
       "      <td>0.084582</td>\n",
       "      <td>0.005590</td>\n",
       "      <td>0.025034</td>\n",
       "    </tr>\n",
       "  </tbody>\n",
       "</table>\n",
       "</div>"
      ],
      "text/plain": [
       "            USDCNYspot  USDBRLspot  USDZARspot  USDRUBspot  EURUSDspot  \\\n",
       "Date                                                                     \n",
       "2016-01-01    0.000000    0.000000    0.005754    0.000000   -0.000552   \n",
       "2016-01-04    0.006129    0.018946    0.001208   -0.005791   -0.002303   \n",
       "\n",
       "            USDJPYspot  USDMXNspot  USDCADspot  USDCNYvol  USDBRLvol  \\\n",
       "Date                                                                   \n",
       "2016-01-01    0.002745    0.003202    0.001156   0.004979  -0.002637   \n",
       "2016-01-04   -0.009208    0.002699    0.007073   0.021341   0.013574   \n",
       "\n",
       "            USDZARvol  USDRUBvol  EURUSDvol  USDJPYvol  USDMXNvol  USDCADvol  \n",
       "Date                                                                          \n",
       "2016-01-01  -0.005592   0.001124  -0.000755  -0.001869   0.002847   0.001929  \n",
       "2016-01-04   0.011514  -0.022325   0.007049   0.084582   0.005590   0.025034  "
      ]
     },
     "execution_count": 82,
     "metadata": {},
     "output_type": "execute_result"
    }
   ],
   "source": [
    "# Get a test sample of returns \n",
    "tdate1 = dates_sample[0]\n",
    "tdate2 = dates_sample[1]\n",
    "test_returns = retfxvol[(tdate1<=retfxvol.index)&(retfxvol.index<=tdate2)].copy()\n",
    "test_returns.head(2)"
   ]
  },
  {
   "cell_type": "code",
   "execution_count": 299,
   "id": "ce427503",
   "metadata": {},
   "outputs": [
    {
     "data": {
      "text/plain": [
       "array([ 484.34176946,  392.16311673,  -24.98351936, -258.78322217,\n",
       "        142.05375205,  225.26089532,   39.82337072, -237.17157389,\n",
       "        441.13337736, -173.80098402,  145.81938763, -422.8966796 ,\n",
       "        -24.88764675,  451.61758532,  -62.83115102, -198.388011  ])"
      ]
     },
     "execution_count": 299,
     "metadata": {},
     "output_type": "execute_result"
    }
   ],
   "source": [
    "# Random Risk position \n",
    "risk_pos_test = (np.random.rand(16)- 0.5) *1000\n",
    "risk_pos_test"
   ]
  },
  {
   "cell_type": "code",
   "execution_count": 300,
   "id": "c1e9c0f6",
   "metadata": {},
   "outputs": [
    {
     "data": {
      "text/plain": [
       "array([ 80.82015917, 196.73582347, 319.5871676 ,  72.50030022,\n",
       "        99.48792856, 582.62409884, 443.50189943, 789.07206717,\n",
       "       411.07192809, 883.34306305, 705.11235327, 824.23898674,\n",
       "       884.20322798, 102.29949391, 393.33086135, 201.98364074])"
      ]
     },
     "execution_count": 300,
     "metadata": {},
     "output_type": "execute_result"
    }
   ],
   "source": [
    "# Random Risk position \n",
    "spot_vols_test = np.random.rand(16)*1000\n",
    "spot_vols_test"
   ]
  },
  {
   "cell_type": "code",
   "execution_count": 301,
   "id": "aa9be082",
   "metadata": {},
   "outputs": [],
   "source": [
    "# Test risk_metrics\n",
    "VaR95, cVaR95, VaR99, cVaR99 = VaR_CVaR_MC(test_returns, risk_pos_test, spot_vols_test, 3)"
   ]
  },
  {
   "cell_type": "code",
   "execution_count": 302,
   "id": "432254f9",
   "metadata": {
    "scrolled": true
   },
   "outputs": [
    {
     "data": {
      "text/plain": [
       "pandas.core.series.Series"
      ]
     },
     "execution_count": 302,
     "metadata": {},
     "output_type": "execute_result"
    }
   ],
   "source": [
    "type(VaR95)"
   ]
  },
  {
   "cell_type": "code",
   "execution_count": 303,
   "id": "c33c7f35",
   "metadata": {
    "scrolled": true
   },
   "outputs": [
    {
     "data": {
      "text/plain": [
       "0        -1.323497\n",
       "1        -2.043789\n",
       "2        -0.057671\n",
       "3        -5.383195\n",
       "4        -0.919508\n",
       "5        -1.248726\n",
       "6         0.161335\n",
       "7        -0.658739\n",
       "8     -8713.771863\n",
       "9     -9883.937699\n",
       "10    -4812.010583\n",
       "11   -24208.825189\n",
       "12     -428.572335\n",
       "13    -2986.618560\n",
       "14     -465.426324\n",
       "15    -1823.891249\n",
       "dtype: float64"
      ]
     },
     "execution_count": 303,
     "metadata": {},
     "output_type": "execute_result"
    }
   ],
   "source": [
    "cVaR99"
   ]
  },
  {
   "cell_type": "code",
   "execution_count": null,
   "id": "fabca1f2",
   "metadata": {},
   "outputs": [],
   "source": []
  },
  {
   "cell_type": "code",
   "execution_count": 84,
   "id": "732bd0ff",
   "metadata": {
    "scrolled": true
   },
   "outputs": [
    {
     "data": {
      "text/html": [
       "<div>\n",
       "<style scoped>\n",
       "    .dataframe tbody tr th:only-of-type {\n",
       "        vertical-align: middle;\n",
       "    }\n",
       "\n",
       "    .dataframe tbody tr th {\n",
       "        vertical-align: top;\n",
       "    }\n",
       "\n",
       "    .dataframe thead th {\n",
       "        text-align: right;\n",
       "    }\n",
       "</style>\n",
       "<table border=\"1\" class=\"dataframe\">\n",
       "  <thead>\n",
       "    <tr style=\"text-align: right;\">\n",
       "      <th></th>\n",
       "      <th>USDCNY_delta</th>\n",
       "      <th>USDBRL_delta</th>\n",
       "      <th>USDZAR_delta</th>\n",
       "      <th>USDRUB_delta</th>\n",
       "      <th>EURUSD_delta</th>\n",
       "      <th>USDJPY_delta</th>\n",
       "      <th>USDMXN_delta</th>\n",
       "      <th>USDCAD_delta</th>\n",
       "      <th>Total_delta</th>\n",
       "    </tr>\n",
       "    <tr>\n",
       "      <th>Date</th>\n",
       "      <th></th>\n",
       "      <th></th>\n",
       "      <th></th>\n",
       "      <th></th>\n",
       "      <th></th>\n",
       "      <th></th>\n",
       "      <th></th>\n",
       "      <th></th>\n",
       "      <th></th>\n",
       "    </tr>\n",
       "  </thead>\n",
       "  <tbody>\n",
       "    <tr>\n",
       "      <th>2016-04-29</th>\n",
       "      <td>0.0</td>\n",
       "      <td>0.0</td>\n",
       "      <td>0</td>\n",
       "      <td>0.0</td>\n",
       "      <td>0.000000</td>\n",
       "      <td>0.000000</td>\n",
       "      <td>0.0</td>\n",
       "      <td>0.0</td>\n",
       "      <td>0.000000</td>\n",
       "    </tr>\n",
       "    <tr>\n",
       "      <th>2016-05-02</th>\n",
       "      <td>0.0</td>\n",
       "      <td>0.0</td>\n",
       "      <td>0</td>\n",
       "      <td>0.0</td>\n",
       "      <td>44632.703900</td>\n",
       "      <td>0.000000</td>\n",
       "      <td>0.0</td>\n",
       "      <td>0.0</td>\n",
       "      <td>44632.703900</td>\n",
       "    </tr>\n",
       "    <tr>\n",
       "      <th>2016-05-03</th>\n",
       "      <td>0.0</td>\n",
       "      <td>0.0</td>\n",
       "      <td>0</td>\n",
       "      <td>0.0</td>\n",
       "      <td>40397.480135</td>\n",
       "      <td>0.000000</td>\n",
       "      <td>0.0</td>\n",
       "      <td>0.0</td>\n",
       "      <td>40397.480135</td>\n",
       "    </tr>\n",
       "    <tr>\n",
       "      <th>2016-05-04</th>\n",
       "      <td>0.0</td>\n",
       "      <td>0.0</td>\n",
       "      <td>0</td>\n",
       "      <td>0.0</td>\n",
       "      <td>39350.120899</td>\n",
       "      <td>0.000000</td>\n",
       "      <td>0.0</td>\n",
       "      <td>0.0</td>\n",
       "      <td>39350.120899</td>\n",
       "    </tr>\n",
       "    <tr>\n",
       "      <th>2016-05-05</th>\n",
       "      <td>0.0</td>\n",
       "      <td>0.0</td>\n",
       "      <td>0</td>\n",
       "      <td>0.0</td>\n",
       "      <td>30290.872228</td>\n",
       "      <td>0.000000</td>\n",
       "      <td>0.0</td>\n",
       "      <td>0.0</td>\n",
       "      <td>30290.872228</td>\n",
       "    </tr>\n",
       "    <tr>\n",
       "      <th>...</th>\n",
       "      <td>...</td>\n",
       "      <td>...</td>\n",
       "      <td>...</td>\n",
       "      <td>...</td>\n",
       "      <td>...</td>\n",
       "      <td>...</td>\n",
       "      <td>...</td>\n",
       "      <td>...</td>\n",
       "      <td>...</td>\n",
       "    </tr>\n",
       "    <tr>\n",
       "      <th>2021-05-26</th>\n",
       "      <td>0.0</td>\n",
       "      <td>0.0</td>\n",
       "      <td>0</td>\n",
       "      <td>0.0</td>\n",
       "      <td>0.000000</td>\n",
       "      <td>82685.125902</td>\n",
       "      <td>0.0</td>\n",
       "      <td>0.0</td>\n",
       "      <td>82685.125902</td>\n",
       "    </tr>\n",
       "    <tr>\n",
       "      <th>2021-05-27</th>\n",
       "      <td>0.0</td>\n",
       "      <td>0.0</td>\n",
       "      <td>0</td>\n",
       "      <td>0.0</td>\n",
       "      <td>0.000000</td>\n",
       "      <td>114070.466183</td>\n",
       "      <td>0.0</td>\n",
       "      <td>0.0</td>\n",
       "      <td>114070.466183</td>\n",
       "    </tr>\n",
       "    <tr>\n",
       "      <th>2021-05-28</th>\n",
       "      <td>0.0</td>\n",
       "      <td>0.0</td>\n",
       "      <td>0</td>\n",
       "      <td>0.0</td>\n",
       "      <td>0.000000</td>\n",
       "      <td>117828.799915</td>\n",
       "      <td>0.0</td>\n",
       "      <td>0.0</td>\n",
       "      <td>117828.799915</td>\n",
       "    </tr>\n",
       "    <tr>\n",
       "      <th>2021-05-31</th>\n",
       "      <td>0.0</td>\n",
       "      <td>0.0</td>\n",
       "      <td>0</td>\n",
       "      <td>0.0</td>\n",
       "      <td>0.000000</td>\n",
       "      <td>123409.063180</td>\n",
       "      <td>0.0</td>\n",
       "      <td>0.0</td>\n",
       "      <td>123409.063180</td>\n",
       "    </tr>\n",
       "    <tr>\n",
       "      <th>2021-06-01</th>\n",
       "      <td>0.0</td>\n",
       "      <td>0.0</td>\n",
       "      <td>0</td>\n",
       "      <td>0.0</td>\n",
       "      <td>0.000000</td>\n",
       "      <td>0.000000</td>\n",
       "      <td>0.0</td>\n",
       "      <td>0.0</td>\n",
       "      <td>0.000000</td>\n",
       "    </tr>\n",
       "  </tbody>\n",
       "</table>\n",
       "<p>1328 rows × 9 columns</p>\n",
       "</div>"
      ],
      "text/plain": [
       "            USDCNY_delta  USDBRL_delta  USDZAR_delta  USDRUB_delta  \\\n",
       "Date                                                                 \n",
       "2016-04-29           0.0           0.0             0           0.0   \n",
       "2016-05-02           0.0           0.0             0           0.0   \n",
       "2016-05-03           0.0           0.0             0           0.0   \n",
       "2016-05-04           0.0           0.0             0           0.0   \n",
       "2016-05-05           0.0           0.0             0           0.0   \n",
       "...                  ...           ...           ...           ...   \n",
       "2021-05-26           0.0           0.0             0           0.0   \n",
       "2021-05-27           0.0           0.0             0           0.0   \n",
       "2021-05-28           0.0           0.0             0           0.0   \n",
       "2021-05-31           0.0           0.0             0           0.0   \n",
       "2021-06-01           0.0           0.0             0           0.0   \n",
       "\n",
       "            EURUSD_delta   USDJPY_delta  USDMXN_delta  USDCAD_delta  \\\n",
       "Date                                                                  \n",
       "2016-04-29      0.000000       0.000000           0.0           0.0   \n",
       "2016-05-02  44632.703900       0.000000           0.0           0.0   \n",
       "2016-05-03  40397.480135       0.000000           0.0           0.0   \n",
       "2016-05-04  39350.120899       0.000000           0.0           0.0   \n",
       "2016-05-05  30290.872228       0.000000           0.0           0.0   \n",
       "...                  ...            ...           ...           ...   \n",
       "2021-05-26      0.000000   82685.125902           0.0           0.0   \n",
       "2021-05-27      0.000000  114070.466183           0.0           0.0   \n",
       "2021-05-28      0.000000  117828.799915           0.0           0.0   \n",
       "2021-05-31      0.000000  123409.063180           0.0           0.0   \n",
       "2021-06-01      0.000000       0.000000           0.0           0.0   \n",
       "\n",
       "              Total_delta  \n",
       "Date                       \n",
       "2016-04-29       0.000000  \n",
       "2016-05-02   44632.703900  \n",
       "2016-05-03   40397.480135  \n",
       "2016-05-04   39350.120899  \n",
       "2016-05-05   30290.872228  \n",
       "...                   ...  \n",
       "2021-05-26   82685.125902  \n",
       "2021-05-27  114070.466183  \n",
       "2021-05-28  117828.799915  \n",
       "2021-05-31  123409.063180  \n",
       "2021-06-01       0.000000  \n",
       "\n",
       "[1328 rows x 9 columns]"
      ]
     },
     "execution_count": 84,
     "metadata": {},
     "output_type": "execute_result"
    }
   ],
   "source": [
    "_delta[_delta.index>='2016-04-29']"
   ]
  },
  {
   "cell_type": "code",
   "execution_count": 85,
   "id": "2a280503",
   "metadata": {
    "scrolled": true
   },
   "outputs": [
    {
     "name": "stdout",
     "output_type": "stream",
     "text": [
      "2016-05-01 00:00:00\n"
     ]
    },
    {
     "ename": "KeyError",
     "evalue": "Timestamp('2016-05-01 00:00:00', freq='MS')",
     "output_type": "error",
     "traceback": [
      "\u001b[0;31m---------------------------------------------------------------------------\u001b[0m",
      "\u001b[0;31mKeyError\u001b[0m                                  Traceback (most recent call last)",
      "\u001b[0;32mpandas/_libs/index.pyx\u001b[0m in \u001b[0;36mpandas._libs.index.DatetimeEngine.get_loc\u001b[0;34m()\u001b[0m\n",
      "\u001b[0;32mpandas/_libs/hashtable_class_helper.pxi\u001b[0m in \u001b[0;36mpandas._libs.hashtable.Int64HashTable.get_item\u001b[0;34m()\u001b[0m\n",
      "\u001b[0;32mpandas/_libs/hashtable_class_helper.pxi\u001b[0m in \u001b[0;36mpandas._libs.hashtable.Int64HashTable.get_item\u001b[0;34m()\u001b[0m\n",
      "\u001b[0;31mKeyError\u001b[0m: 1462060800000000000",
      "\nDuring handling of the above exception, another exception occurred:\n",
      "\u001b[0;31mKeyError\u001b[0m                                  Traceback (most recent call last)",
      "\u001b[0;32m~/opt/anaconda3/lib/python3.8/site-packages/pandas/core/indexes/base.py\u001b[0m in \u001b[0;36mget_loc\u001b[0;34m(self, key, method, tolerance)\u001b[0m\n\u001b[1;32m   3079\u001b[0m             \u001b[0;32mtry\u001b[0m\u001b[0;34m:\u001b[0m\u001b[0;34m\u001b[0m\u001b[0;34m\u001b[0m\u001b[0m\n\u001b[0;32m-> 3080\u001b[0;31m                 \u001b[0;32mreturn\u001b[0m \u001b[0mself\u001b[0m\u001b[0;34m.\u001b[0m\u001b[0m_engine\u001b[0m\u001b[0;34m.\u001b[0m\u001b[0mget_loc\u001b[0m\u001b[0;34m(\u001b[0m\u001b[0mcasted_key\u001b[0m\u001b[0;34m)\u001b[0m\u001b[0;34m\u001b[0m\u001b[0;34m\u001b[0m\u001b[0m\n\u001b[0m\u001b[1;32m   3081\u001b[0m             \u001b[0;32mexcept\u001b[0m \u001b[0mKeyError\u001b[0m \u001b[0;32mas\u001b[0m \u001b[0merr\u001b[0m\u001b[0;34m:\u001b[0m\u001b[0;34m\u001b[0m\u001b[0;34m\u001b[0m\u001b[0m\n",
      "\u001b[0;32mpandas/_libs/index.pyx\u001b[0m in \u001b[0;36mpandas._libs.index.DatetimeEngine.get_loc\u001b[0;34m()\u001b[0m\n",
      "\u001b[0;32mpandas/_libs/index.pyx\u001b[0m in \u001b[0;36mpandas._libs.index.DatetimeEngine.get_loc\u001b[0;34m()\u001b[0m\n",
      "\u001b[0;31mKeyError\u001b[0m: Timestamp('2016-05-01 00:00:00', freq='MS')",
      "\nThe above exception was the direct cause of the following exception:\n",
      "\u001b[0;31mKeyError\u001b[0m                                  Traceback (most recent call last)",
      "\u001b[0;32m~/opt/anaconda3/lib/python3.8/site-packages/pandas/core/indexes/datetimes.py\u001b[0m in \u001b[0;36mget_loc\u001b[0;34m(self, key, method, tolerance)\u001b[0m\n\u001b[1;32m    685\u001b[0m         \u001b[0;32mtry\u001b[0m\u001b[0;34m:\u001b[0m\u001b[0;34m\u001b[0m\u001b[0;34m\u001b[0m\u001b[0m\n\u001b[0;32m--> 686\u001b[0;31m             \u001b[0;32mreturn\u001b[0m \u001b[0mIndex\u001b[0m\u001b[0;34m.\u001b[0m\u001b[0mget_loc\u001b[0m\u001b[0;34m(\u001b[0m\u001b[0mself\u001b[0m\u001b[0;34m,\u001b[0m \u001b[0mkey\u001b[0m\u001b[0;34m,\u001b[0m \u001b[0mmethod\u001b[0m\u001b[0;34m,\u001b[0m \u001b[0mtolerance\u001b[0m\u001b[0;34m)\u001b[0m\u001b[0;34m\u001b[0m\u001b[0;34m\u001b[0m\u001b[0m\n\u001b[0m\u001b[1;32m    687\u001b[0m         \u001b[0;32mexcept\u001b[0m \u001b[0mKeyError\u001b[0m \u001b[0;32mas\u001b[0m \u001b[0merr\u001b[0m\u001b[0;34m:\u001b[0m\u001b[0;34m\u001b[0m\u001b[0;34m\u001b[0m\u001b[0m\n",
      "\u001b[0;32m~/opt/anaconda3/lib/python3.8/site-packages/pandas/core/indexes/base.py\u001b[0m in \u001b[0;36mget_loc\u001b[0;34m(self, key, method, tolerance)\u001b[0m\n\u001b[1;32m   3081\u001b[0m             \u001b[0;32mexcept\u001b[0m \u001b[0mKeyError\u001b[0m \u001b[0;32mas\u001b[0m \u001b[0merr\u001b[0m\u001b[0;34m:\u001b[0m\u001b[0;34m\u001b[0m\u001b[0;34m\u001b[0m\u001b[0m\n\u001b[0;32m-> 3082\u001b[0;31m                 \u001b[0;32mraise\u001b[0m \u001b[0mKeyError\u001b[0m\u001b[0;34m(\u001b[0m\u001b[0mkey\u001b[0m\u001b[0;34m)\u001b[0m \u001b[0;32mfrom\u001b[0m \u001b[0merr\u001b[0m\u001b[0;34m\u001b[0m\u001b[0;34m\u001b[0m\u001b[0m\n\u001b[0m\u001b[1;32m   3083\u001b[0m \u001b[0;34m\u001b[0m\u001b[0m\n",
      "\u001b[0;31mKeyError\u001b[0m: Timestamp('2016-05-01 00:00:00', freq='MS')",
      "\nThe above exception was the direct cause of the following exception:\n",
      "\u001b[0;31mKeyError\u001b[0m                                  Traceback (most recent call last)",
      "\u001b[0;32m<ipython-input-85-3f678fcf8dc2>\u001b[0m in \u001b[0;36m<module>\u001b[0;34m\u001b[0m\n\u001b[1;32m      1\u001b[0m \u001b[0mprint\u001b[0m\u001b[0;34m(\u001b[0m\u001b[0mdates_to_split\u001b[0m\u001b[0;34m[\u001b[0m\u001b[0;36m1\u001b[0m\u001b[0;34m]\u001b[0m\u001b[0;34m)\u001b[0m\u001b[0;34m\u001b[0m\u001b[0;34m\u001b[0m\u001b[0m\n\u001b[0;32m----> 2\u001b[0;31m \u001b[0m_delta\u001b[0m\u001b[0;34m.\u001b[0m\u001b[0mloc\u001b[0m\u001b[0;34m[\u001b[0m\u001b[0mdates_to_split\u001b[0m\u001b[0;34m[\u001b[0m\u001b[0;36m1\u001b[0m\u001b[0;34m]\u001b[0m\u001b[0;34m]\u001b[0m\u001b[0;34m\u001b[0m\u001b[0;34m\u001b[0m\u001b[0m\n\u001b[0m",
      "\u001b[0;32m~/opt/anaconda3/lib/python3.8/site-packages/pandas/core/indexing.py\u001b[0m in \u001b[0;36m__getitem__\u001b[0;34m(self, key)\u001b[0m\n\u001b[1;32m    893\u001b[0m \u001b[0;34m\u001b[0m\u001b[0m\n\u001b[1;32m    894\u001b[0m             \u001b[0mmaybe_callable\u001b[0m \u001b[0;34m=\u001b[0m \u001b[0mcom\u001b[0m\u001b[0;34m.\u001b[0m\u001b[0mapply_if_callable\u001b[0m\u001b[0;34m(\u001b[0m\u001b[0mkey\u001b[0m\u001b[0;34m,\u001b[0m \u001b[0mself\u001b[0m\u001b[0;34m.\u001b[0m\u001b[0mobj\u001b[0m\u001b[0;34m)\u001b[0m\u001b[0;34m\u001b[0m\u001b[0;34m\u001b[0m\u001b[0m\n\u001b[0;32m--> 895\u001b[0;31m             \u001b[0;32mreturn\u001b[0m \u001b[0mself\u001b[0m\u001b[0;34m.\u001b[0m\u001b[0m_getitem_axis\u001b[0m\u001b[0;34m(\u001b[0m\u001b[0mmaybe_callable\u001b[0m\u001b[0;34m,\u001b[0m \u001b[0maxis\u001b[0m\u001b[0;34m=\u001b[0m\u001b[0maxis\u001b[0m\u001b[0;34m)\u001b[0m\u001b[0;34m\u001b[0m\u001b[0;34m\u001b[0m\u001b[0m\n\u001b[0m\u001b[1;32m    896\u001b[0m \u001b[0;34m\u001b[0m\u001b[0m\n\u001b[1;32m    897\u001b[0m     \u001b[0;32mdef\u001b[0m \u001b[0m_is_scalar_access\u001b[0m\u001b[0;34m(\u001b[0m\u001b[0mself\u001b[0m\u001b[0;34m,\u001b[0m \u001b[0mkey\u001b[0m\u001b[0;34m:\u001b[0m \u001b[0mTuple\u001b[0m\u001b[0;34m)\u001b[0m\u001b[0;34m:\u001b[0m\u001b[0;34m\u001b[0m\u001b[0;34m\u001b[0m\u001b[0m\n",
      "\u001b[0;32m~/opt/anaconda3/lib/python3.8/site-packages/pandas/core/indexing.py\u001b[0m in \u001b[0;36m_getitem_axis\u001b[0;34m(self, key, axis)\u001b[0m\n\u001b[1;32m   1122\u001b[0m         \u001b[0;31m# fall thru to straight lookup\u001b[0m\u001b[0;34m\u001b[0m\u001b[0;34m\u001b[0m\u001b[0;34m\u001b[0m\u001b[0m\n\u001b[1;32m   1123\u001b[0m         \u001b[0mself\u001b[0m\u001b[0;34m.\u001b[0m\u001b[0m_validate_key\u001b[0m\u001b[0;34m(\u001b[0m\u001b[0mkey\u001b[0m\u001b[0;34m,\u001b[0m \u001b[0maxis\u001b[0m\u001b[0;34m)\u001b[0m\u001b[0;34m\u001b[0m\u001b[0;34m\u001b[0m\u001b[0m\n\u001b[0;32m-> 1124\u001b[0;31m         \u001b[0;32mreturn\u001b[0m \u001b[0mself\u001b[0m\u001b[0;34m.\u001b[0m\u001b[0m_get_label\u001b[0m\u001b[0;34m(\u001b[0m\u001b[0mkey\u001b[0m\u001b[0;34m,\u001b[0m \u001b[0maxis\u001b[0m\u001b[0;34m=\u001b[0m\u001b[0maxis\u001b[0m\u001b[0;34m)\u001b[0m\u001b[0;34m\u001b[0m\u001b[0;34m\u001b[0m\u001b[0m\n\u001b[0m\u001b[1;32m   1125\u001b[0m \u001b[0;34m\u001b[0m\u001b[0m\n\u001b[1;32m   1126\u001b[0m     \u001b[0;32mdef\u001b[0m \u001b[0m_get_slice_axis\u001b[0m\u001b[0;34m(\u001b[0m\u001b[0mself\u001b[0m\u001b[0;34m,\u001b[0m \u001b[0mslice_obj\u001b[0m\u001b[0;34m:\u001b[0m \u001b[0mslice\u001b[0m\u001b[0;34m,\u001b[0m \u001b[0maxis\u001b[0m\u001b[0;34m:\u001b[0m \u001b[0mint\u001b[0m\u001b[0;34m)\u001b[0m\u001b[0;34m:\u001b[0m\u001b[0;34m\u001b[0m\u001b[0;34m\u001b[0m\u001b[0m\n",
      "\u001b[0;32m~/opt/anaconda3/lib/python3.8/site-packages/pandas/core/indexing.py\u001b[0m in \u001b[0;36m_get_label\u001b[0;34m(self, label, axis)\u001b[0m\n\u001b[1;32m   1071\u001b[0m     \u001b[0;32mdef\u001b[0m \u001b[0m_get_label\u001b[0m\u001b[0;34m(\u001b[0m\u001b[0mself\u001b[0m\u001b[0;34m,\u001b[0m \u001b[0mlabel\u001b[0m\u001b[0;34m,\u001b[0m \u001b[0maxis\u001b[0m\u001b[0;34m:\u001b[0m \u001b[0mint\u001b[0m\u001b[0;34m)\u001b[0m\u001b[0;34m:\u001b[0m\u001b[0;34m\u001b[0m\u001b[0;34m\u001b[0m\u001b[0m\n\u001b[1;32m   1072\u001b[0m         \u001b[0;31m# GH#5667 this will fail if the label is not present in the axis.\u001b[0m\u001b[0;34m\u001b[0m\u001b[0;34m\u001b[0m\u001b[0;34m\u001b[0m\u001b[0m\n\u001b[0;32m-> 1073\u001b[0;31m         \u001b[0;32mreturn\u001b[0m \u001b[0mself\u001b[0m\u001b[0;34m.\u001b[0m\u001b[0mobj\u001b[0m\u001b[0;34m.\u001b[0m\u001b[0mxs\u001b[0m\u001b[0;34m(\u001b[0m\u001b[0mlabel\u001b[0m\u001b[0;34m,\u001b[0m \u001b[0maxis\u001b[0m\u001b[0;34m=\u001b[0m\u001b[0maxis\u001b[0m\u001b[0;34m)\u001b[0m\u001b[0;34m\u001b[0m\u001b[0;34m\u001b[0m\u001b[0m\n\u001b[0m\u001b[1;32m   1074\u001b[0m \u001b[0;34m\u001b[0m\u001b[0m\n\u001b[1;32m   1075\u001b[0m     \u001b[0;32mdef\u001b[0m \u001b[0m_handle_lowerdim_multi_index_axis0\u001b[0m\u001b[0;34m(\u001b[0m\u001b[0mself\u001b[0m\u001b[0;34m,\u001b[0m \u001b[0mtup\u001b[0m\u001b[0;34m:\u001b[0m \u001b[0mTuple\u001b[0m\u001b[0;34m)\u001b[0m\u001b[0;34m:\u001b[0m\u001b[0;34m\u001b[0m\u001b[0;34m\u001b[0m\u001b[0m\n",
      "\u001b[0;32m~/opt/anaconda3/lib/python3.8/site-packages/pandas/core/generic.py\u001b[0m in \u001b[0;36mxs\u001b[0;34m(self, key, axis, level, drop_level)\u001b[0m\n\u001b[1;32m   3737\u001b[0m                 \u001b[0;32mraise\u001b[0m \u001b[0mTypeError\u001b[0m\u001b[0;34m(\u001b[0m\u001b[0;34mf\"Expected label or tuple of labels, got {key}\"\u001b[0m\u001b[0;34m)\u001b[0m \u001b[0;32mfrom\u001b[0m \u001b[0me\u001b[0m\u001b[0;34m\u001b[0m\u001b[0;34m\u001b[0m\u001b[0m\n\u001b[1;32m   3738\u001b[0m         \u001b[0;32melse\u001b[0m\u001b[0;34m:\u001b[0m\u001b[0;34m\u001b[0m\u001b[0;34m\u001b[0m\u001b[0m\n\u001b[0;32m-> 3739\u001b[0;31m             \u001b[0mloc\u001b[0m \u001b[0;34m=\u001b[0m \u001b[0mindex\u001b[0m\u001b[0;34m.\u001b[0m\u001b[0mget_loc\u001b[0m\u001b[0;34m(\u001b[0m\u001b[0mkey\u001b[0m\u001b[0;34m)\u001b[0m\u001b[0;34m\u001b[0m\u001b[0;34m\u001b[0m\u001b[0m\n\u001b[0m\u001b[1;32m   3740\u001b[0m \u001b[0;34m\u001b[0m\u001b[0m\n\u001b[1;32m   3741\u001b[0m             \u001b[0;32mif\u001b[0m \u001b[0misinstance\u001b[0m\u001b[0;34m(\u001b[0m\u001b[0mloc\u001b[0m\u001b[0;34m,\u001b[0m \u001b[0mnp\u001b[0m\u001b[0;34m.\u001b[0m\u001b[0mndarray\u001b[0m\u001b[0;34m)\u001b[0m\u001b[0;34m:\u001b[0m\u001b[0;34m\u001b[0m\u001b[0;34m\u001b[0m\u001b[0m\n",
      "\u001b[0;32m~/opt/anaconda3/lib/python3.8/site-packages/pandas/core/indexes/datetimes.py\u001b[0m in \u001b[0;36mget_loc\u001b[0;34m(self, key, method, tolerance)\u001b[0m\n\u001b[1;32m    686\u001b[0m             \u001b[0;32mreturn\u001b[0m \u001b[0mIndex\u001b[0m\u001b[0;34m.\u001b[0m\u001b[0mget_loc\u001b[0m\u001b[0;34m(\u001b[0m\u001b[0mself\u001b[0m\u001b[0;34m,\u001b[0m \u001b[0mkey\u001b[0m\u001b[0;34m,\u001b[0m \u001b[0mmethod\u001b[0m\u001b[0;34m,\u001b[0m \u001b[0mtolerance\u001b[0m\u001b[0;34m)\u001b[0m\u001b[0;34m\u001b[0m\u001b[0;34m\u001b[0m\u001b[0m\n\u001b[1;32m    687\u001b[0m         \u001b[0;32mexcept\u001b[0m \u001b[0mKeyError\u001b[0m \u001b[0;32mas\u001b[0m \u001b[0merr\u001b[0m\u001b[0;34m:\u001b[0m\u001b[0;34m\u001b[0m\u001b[0;34m\u001b[0m\u001b[0m\n\u001b[0;32m--> 688\u001b[0;31m             \u001b[0;32mraise\u001b[0m \u001b[0mKeyError\u001b[0m\u001b[0;34m(\u001b[0m\u001b[0morig_key\u001b[0m\u001b[0;34m)\u001b[0m \u001b[0;32mfrom\u001b[0m \u001b[0merr\u001b[0m\u001b[0;34m\u001b[0m\u001b[0;34m\u001b[0m\u001b[0m\n\u001b[0m\u001b[1;32m    689\u001b[0m \u001b[0;34m\u001b[0m\u001b[0m\n\u001b[1;32m    690\u001b[0m     \u001b[0;32mdef\u001b[0m \u001b[0m_maybe_cast_for_get_loc\u001b[0m\u001b[0;34m(\u001b[0m\u001b[0mself\u001b[0m\u001b[0;34m,\u001b[0m \u001b[0mkey\u001b[0m\u001b[0;34m)\u001b[0m \u001b[0;34m->\u001b[0m \u001b[0mTimestamp\u001b[0m\u001b[0;34m:\u001b[0m\u001b[0;34m\u001b[0m\u001b[0;34m\u001b[0m\u001b[0m\n",
      "\u001b[0;31mKeyError\u001b[0m: Timestamp('2016-05-01 00:00:00', freq='MS')"
     ]
    }
   ],
   "source": [
    "print(dates_to_split[1])\n",
    "_delta.loc[dates_to_split[1]]"
   ]
  },
  {
   "cell_type": "code",
   "execution_count": 346,
   "id": "69d5de79",
   "metadata": {
    "scrolled": true
   },
   "outputs": [
    {
     "data": {
      "text/plain": [
       "USDCNY_vega    9541.002109\n",
       "USDBRL_vega       0.000000\n",
       "USDZAR_vega       0.000000\n",
       "USDRUB_vega       0.000000\n",
       "EURUSD_vega     146.868055\n",
       "USDJPY_vega       0.000000\n",
       "USDMXN_vega       0.000000\n",
       "USDCAD_vega       0.000000\n",
       "Total_vega     9687.870164\n",
       "Name: 2016-07-01 00:00:00, dtype: float64"
      ]
     },
     "execution_count": 346,
     "metadata": {},
     "output_type": "execute_result"
    }
   ],
   "source": [
    "_vega.loc[dates_to_split[1]]"
   ]
  },
  {
   "cell_type": "code",
   "execution_count": 347,
   "id": "4c023f1c",
   "metadata": {},
   "outputs": [
    {
     "data": {
      "text/plain": [
       "USDCNY_delta    109825.962718\n",
       "USDBRL_delta         0.000000\n",
       "USDZAR_delta         0.000000\n",
       "USDRUB_delta         0.000000\n",
       "EURUSD_delta     60287.014481\n",
       "USDJPY_delta         0.000000\n",
       "USDMXN_delta         0.000000\n",
       "USDCAD_delta         0.000000\n",
       "USDCNY_vega       9541.002109\n",
       "USDBRL_vega          0.000000\n",
       "USDZAR_vega          0.000000\n",
       "USDRUB_vega          0.000000\n",
       "EURUSD_vega        146.868055\n",
       "USDJPY_vega          0.000000\n",
       "USDMXN_vega          0.000000\n",
       "USDCAD_vega          0.000000\n",
       "Name: 2016-07-01 00:00:00, dtype: float64"
      ]
     },
     "execution_count": 347,
     "metadata": {},
     "output_type": "execute_result"
    }
   ],
   "source": [
    "risk_pos = _delta.loc[dates_to_split[1]][:-1].append(_vega.loc[dates_to_split[1]][:-1])\n",
    "risk_pos"
   ]
  },
  {
   "cell_type": "code",
   "execution_count": 341,
   "id": "25d98552",
   "metadata": {
    "scrolled": true
   },
   "outputs": [
    {
     "data": {
      "text/plain": [
       "DatetimeIndex(['2015-04-01', '2015-05-01', '2015-06-01', '2015-07-01',\n",
       "               '2015-08-01', '2015-09-01', '2015-10-01', '2015-11-01',\n",
       "               '2015-12-01', '2016-01-01', '2016-02-01', '2016-03-01',\n",
       "               '2016-04-01', '2016-05-01', '2016-06-01', '2016-07-01',\n",
       "               '2016-08-01', '2016-09-01', '2016-10-01', '2016-11-01',\n",
       "               '2016-12-01', '2017-01-01', '2017-02-01', '2017-03-01',\n",
       "               '2017-04-01', '2017-05-01', '2017-06-01', '2017-07-01',\n",
       "               '2017-08-01', '2017-09-01', '2017-10-01', '2017-11-01',\n",
       "               '2017-12-01', '2018-01-01', '2018-02-01', '2018-03-01',\n",
       "               '2018-04-01', '2018-05-01', '2018-06-01', '2018-07-01',\n",
       "               '2018-08-01', '2018-09-01', '2018-10-01', '2018-11-01',\n",
       "               '2018-12-01', '2019-01-01', '2019-02-01', '2019-03-01',\n",
       "               '2019-04-01', '2019-05-01', '2019-06-01', '2019-07-01',\n",
       "               '2019-08-01', '2019-09-01', '2019-10-01', '2019-11-01',\n",
       "               '2019-12-01', '2020-01-01', '2020-02-01', '2020-03-01',\n",
       "               '2020-04-01', '2020-05-01', '2020-06-01', '2020-07-01',\n",
       "               '2020-08-01', '2020-09-01', '2020-10-01', '2020-11-01',\n",
       "               '2020-12-01', '2021-01-01', '2021-02-01', '2021-03-01',\n",
       "               '2021-04-01', '2021-05-01'],\n",
       "              dtype='datetime64[ns]', freq='MS')"
      ]
     },
     "execution_count": 341,
     "metadata": {},
     "output_type": "execute_result"
    }
   ],
   "source": [
    "calibrate_risk"
   ]
  }
 ],
 "metadata": {
  "kernelspec": {
   "display_name": "Python 3",
   "language": "python",
   "name": "python3"
  },
  "language_info": {
   "codemirror_mode": {
    "name": "ipython",
    "version": 3
   },
   "file_extension": ".py",
   "mimetype": "text/x-python",
   "name": "python",
   "nbconvert_exporter": "python",
   "pygments_lexer": "ipython3",
   "version": "3.8.8"
  }
 },
 "nbformat": 4,
 "nbformat_minor": 5
}
